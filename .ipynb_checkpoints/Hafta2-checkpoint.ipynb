{
 "cells": [
  {
   "cell_type": "code",
   "execution_count": 1,
   "id": "70abdec2",
   "metadata": {},
   "outputs": [],
   "source": [
    "import pandas as pd  \n",
    "# pandas iki temel veri yapısına dayanır 1. seriler (series) ve veri çerçeveleri (Dataframe)"
   ]
  },
  {
   "cell_type": "code",
   "execution_count": 2,
   "id": "9d4da87a",
   "metadata": {},
   "outputs": [
    {
     "data": {
      "text/plain": [
       "['elma', 'armut', 'kiraz']"
      ]
     },
     "execution_count": 2,
     "metadata": {},
     "output_type": "execute_result"
    }
   ],
   "source": [
    "fruits = [\"elma\" , \"armut\" , \"kiraz\"]  # fruits adında bir liste oluşturduk \n",
    "fruits"
   ]
  },
  {
   "cell_type": "code",
   "execution_count": 3,
   "id": "20d2a8b0",
   "metadata": {},
   "outputs": [
    {
     "data": {
      "text/plain": [
       "0     elma\n",
       "1    armut\n",
       "2    kiraz\n",
       "dtype: object"
      ]
     },
     "execution_count": 3,
     "metadata": {},
     "output_type": "execute_result"
    }
   ],
   "source": [
    "pd.Series(fruits) # pandas kütüphanesinden seri olşturarak yaptık sonuçta bize index şeklinde döndürdü "
   ]
  },
  {
   "cell_type": "code",
   "execution_count": 4,
   "id": "c87f6e5b",
   "metadata": {},
   "outputs": [
    {
     "data": {
      "text/plain": [
       "{'defter': 30, 'kalem': 20, 'silgi': 10}"
      ]
     },
     "execution_count": 4,
     "metadata": {},
     "output_type": "execute_result"
    }
   ],
   "source": [
    "kırtasiye = {\n",
    "    \"defter\" : 30,\n",
    "    \"kalem\" : 20,\n",
    "    \"silgi\" : 10\n",
    "}\n",
    "kırtasiye"
   ]
  },
  {
   "cell_type": "code",
   "execution_count": 5,
   "id": "a6d59d69",
   "metadata": {},
   "outputs": [
    {
     "data": {
      "text/plain": [
       "defter    30\n",
       "kalem     20\n",
       "silgi     10\n",
       "dtype: int64"
      ]
     },
     "execution_count": 5,
     "metadata": {},
     "output_type": "execute_result"
    }
   ],
   "source": [
    "pd.Series(kırtasiye) # kırtasiye şifresini seri şeklinde döndürdük"
   ]
  },
  {
   "cell_type": "code",
   "execution_count": 6,
   "id": "4617514c",
   "metadata": {},
   "outputs": [
    {
     "data": {
      "text/plain": [
       "0    3.0\n",
       "1    2.0\n",
       "2    1.0\n",
       "3    1.5\n",
       "dtype: float64"
      ]
     },
     "execution_count": 6,
     "metadata": {},
     "output_type": "execute_result"
    }
   ],
   "source": [
    "fiyatlar = pd.Series([3, 2, 1, 1.5])\n",
    "fiyatlar"
   ]
  },
  {
   "cell_type": "code",
   "execution_count": 11,
   "id": "1ad77a2e",
   "metadata": {},
   "outputs": [
    {
     "data": {
      "text/plain": [
       "7.5"
      ]
     },
     "execution_count": 11,
     "metadata": {},
     "output_type": "execute_result"
    }
   ],
   "source": [
    "fiyatlar.sum() # toplama işlemi yapar"
   ]
  },
  {
   "cell_type": "code",
   "execution_count": 12,
   "id": "f21c5b60",
   "metadata": {},
   "outputs": [
    {
     "data": {
      "text/plain": [
       "1.875"
      ]
     },
     "execution_count": 12,
     "metadata": {},
     "output_type": "execute_result"
    }
   ],
   "source": [
    "fiyatlar.mean() # aritmetik ortalama alır"
   ]
  },
  {
   "cell_type": "code",
   "execution_count": 13,
   "id": "58dd871e",
   "metadata": {},
   "outputs": [
    {
     "data": {
      "text/plain": [
       "9.0"
      ]
     },
     "execution_count": 13,
     "metadata": {},
     "output_type": "execute_result"
    }
   ],
   "source": [
    "fiyatlar.product() # çarpım işlemi yapar"
   ]
  },
  {
   "cell_type": "code",
   "execution_count": 9,
   "id": "12313e17",
   "metadata": {},
   "outputs": [
    {
     "data": {
      "text/plain": [
       "0    1.0\n",
       "1    1.5\n",
       "2    2.0\n",
       "3    3.0\n",
       "dtype: float64"
      ]
     },
     "execution_count": 9,
     "metadata": {},
     "output_type": "execute_result"
    }
   ],
   "source": [
    "fiyatlar.std () # standart sapma alır\n",
    "fiyatlar.min() # minimum değeri alır\n",
    "fiyatlar.max() # maksimum değeri alır\n",
    "fiyatlar.median () # medyanı bulur\n",
    "fiyatlar.mode () # modunu alır"
   ]
  },
  {
   "cell_type": "code",
   "execution_count": 15,
   "id": "80b44938",
   "metadata": {},
   "outputs": [
    {
     "data": {
      "text/plain": [
       "0       1\n",
       "1       2\n",
       "2       3\n",
       "3    soru\n",
       "dtype: object"
      ]
     },
     "execution_count": 15,
     "metadata": {},
     "output_type": "execute_result"
    }
   ],
   "source": [
    "deneme = pd.Series ([1, 2, 3, \"soru\"])\n",
    "deneme"
   ]
  },
  {
   "cell_type": "code",
   "execution_count": 19,
   "id": "9567fb72",
   "metadata": {},
   "outputs": [
    {
     "name": "stdout",
     "output_type": "stream",
     "text": [
      "Hata\n"
     ]
    },
    {
     "ename": "NameError",
     "evalue": "name 'Hata' is not defined",
     "output_type": "error",
     "traceback": [
      "\u001b[1;31m---------------------------------------------------------------------------\u001b[0m",
      "\u001b[1;31mNameError\u001b[0m                                 Traceback (most recent call last)",
      "Cell \u001b[1;32mIn[19], line 5\u001b[0m\n\u001b[0;32m      3\u001b[0m \u001b[38;5;28;01mexcept\u001b[39;00m:\n\u001b[0;32m      4\u001b[0m     \u001b[38;5;28mprint\u001b[39m(\u001b[38;5;124m\"\u001b[39m\u001b[38;5;124mHata\u001b[39m\u001b[38;5;124m\"\u001b[39m)\n\u001b[1;32m----> 5\u001b[0m Hata\n",
      "\u001b[1;31mNameError\u001b[0m: name 'Hata' is not defined"
     ]
    }
   ],
   "source": [
    "try :               # try bloğunda hata bulunursa excpet hata yakalandığında ne yapacağını belirtir.\n",
    "    deneme.sum()\n",
    "except:\n",
    "    print(\"Hata\")\n",
    "    "
   ]
  },
  {
   "cell_type": "code",
   "execution_count": 14,
   "id": "a2916c03",
   "metadata": {},
   "outputs": [
    {
     "data": {
      "text/plain": [
       "4"
      ]
     },
     "execution_count": 14,
     "metadata": {},
     "output_type": "execute_result"
    }
   ],
   "source": [
    "len(deneme) #serinin eleman sayısını verir."
   ]
  },
  {
   "cell_type": "code",
   "execution_count": 15,
   "id": "8562cd4e",
   "metadata": {},
   "outputs": [
    {
     "data": {
      "text/plain": [
       "4"
      ]
     },
     "execution_count": 15,
     "metadata": {},
     "output_type": "execute_result"
    }
   ],
   "source": [
    "deneme.size  # size da aynı işe yarar "
   ]
  },
  {
   "cell_type": "code",
   "execution_count": 16,
   "id": "76772376",
   "metadata": {},
   "outputs": [
    {
     "data": {
      "text/plain": [
       "0    1.0\n",
       "1    2.0\n",
       "2    3.0\n",
       "3    NaN\n",
       "dtype: float64"
      ]
     },
     "execution_count": 16,
     "metadata": {},
     "output_type": "execute_result"
    }
   ],
   "source": [
    "deneme2 = pd.Series([1, 2, 3, None])  \n",
    "deneme2"
   ]
  },
  {
   "cell_type": "markdown",
   "id": "0f6a586d",
   "metadata": {},
   "source": [
    "deneme.size"
   ]
  },
  {
   "cell_type": "code",
   "execution_count": 17,
   "id": "8d7c00db",
   "metadata": {},
   "outputs": [
    {
     "data": {
      "text/plain": [
       "4"
      ]
     },
     "execution_count": 17,
     "metadata": {},
     "output_type": "execute_result"
    }
   ],
   "source": [
    "deneme2.size # bütün elemanların sayısını döndürür."
   ]
  },
  {
   "cell_type": "code",
   "execution_count": 18,
   "id": "502c82be",
   "metadata": {},
   "outputs": [
    {
     "data": {
      "text/plain": [
       "3"
      ]
     },
     "execution_count": 18,
     "metadata": {},
     "output_type": "execute_result"
    }
   ],
   "source": [
    "deneme2.count() # none ları ciddiye almadan eleman sayısını verir."
   ]
  },
  {
   "cell_type": "code",
   "execution_count": 20,
   "id": "fc87368e",
   "metadata": {},
   "outputs": [
    {
     "data": {
      "text/plain": [
       "True"
      ]
     },
     "execution_count": 20,
     "metadata": {},
     "output_type": "execute_result"
    }
   ],
   "source": [
    "deneme.is_unique  #  Eğer serinin her elemanı farklı ise her elemandan 1 kere kullanılmışşsa True\n",
    "                  "
   ]
  },
  {
   "cell_type": "code",
   "execution_count": 22,
   "id": "0891ca76",
   "metadata": {},
   "outputs": [
    {
     "data": {
      "text/plain": [
       "False"
      ]
     },
     "execution_count": 22,
     "metadata": {},
     "output_type": "execute_result"
    }
   ],
   "source": [
    "deneme3 = pd.Series([1, 2, 3, 2])\n",
    "deneme3.is_unique  # Eğer serinin içinde aynı elemandan 2 tane varsa False döndürür."
   ]
  },
  {
   "cell_type": "code",
   "execution_count": 23,
   "id": "7cdb754f",
   "metadata": {},
   "outputs": [
    {
     "data": {
      "text/plain": [
       "0    1\n",
       "1    2\n",
       "2    3\n",
       "3    2\n",
       "dtype: int64"
      ]
     },
     "execution_count": 23,
     "metadata": {},
     "output_type": "execute_result"
    }
   ],
   "source": [
    "deneme3  #indexler ve valuelar"
   ]
  },
  {
   "cell_type": "code",
   "execution_count": 24,
   "id": "b338dd73",
   "metadata": {},
   "outputs": [
    {
     "data": {
      "text/plain": [
       "RangeIndex(start=0, stop=4, step=1)"
      ]
     },
     "execution_count": 24,
     "metadata": {},
     "output_type": "execute_result"
    }
   ],
   "source": [
    "deneme.index # listenin nerden başlayıp nerde bittiğini ve kaçar kaçar arttığını gösteriyor"
   ]
  },
  {
   "cell_type": "code",
   "execution_count": 23,
   "id": "eb1355b7",
   "metadata": {},
   "outputs": [
    {
     "data": {
      "text/plain": [
       "array([1, 2, 3, 'soru'], dtype=object)"
      ]
     },
     "execution_count": 23,
     "metadata": {},
     "output_type": "execute_result"
    }
   ],
   "source": [
    "deneme.values # array içinde değerleri gösteriyor"
   ]
  },
  {
   "cell_type": "code",
   "execution_count": 27,
   "id": "70badc26",
   "metadata": {},
   "outputs": [
    {
     "data": {
      "text/plain": [
       "pazartesi        elma\n",
       "sali         postakal\n",
       "çarşamba          muz\n",
       "dtype: object"
      ]
     },
     "execution_count": 27,
     "metadata": {},
     "output_type": "execute_result"
    }
   ],
   "source": [
    "gunler = [\"pazartesi\" ,\"sali\" , \"çarşamba\"]\n",
    "meyveler = [\"elma\" , \"postakal\" , \"muz\"]\n",
    "\n",
    "pd.Series(meyveler, gunler)"
   ]
  },
  {
   "cell_type": "code",
   "execution_count": 25,
   "id": "664e42fb",
   "metadata": {},
   "outputs": [
    {
     "data": {
      "text/plain": [
       "pazartesi        elma\n",
       "sali         postakal\n",
       "çarşamba          muz\n",
       "dtype: object"
      ]
     },
     "execution_count": 25,
     "metadata": {},
     "output_type": "execute_result"
    }
   ],
   "source": [
    "pd.Series(meyveler , gunler) # değer ve index  olarak atayabiliriz"
   ]
  },
  {
   "cell_type": "code",
   "execution_count": 26,
   "id": "a36e2d1f",
   "metadata": {},
   "outputs": [
    {
     "data": {
      "text/plain": [
       "pazartesi        elma\n",
       "sali         postakal\n",
       "çarşamba          muz\n",
       "dtype: object"
      ]
     },
     "execution_count": 26,
     "metadata": {},
     "output_type": "execute_result"
    }
   ],
   "source": [
    "pd.Series(index=gunler , data=meyveler)   # burada hangisinin index hangisinin value olduğunu seçeriz"
   ]
  },
  {
   "cell_type": "code",
   "execution_count": 3,
   "id": "a73c651b",
   "metadata": {},
   "outputs": [
    {
     "data": {
      "text/html": [
       "<div>\n",
       "<style scoped>\n",
       "    .dataframe tbody tr th:only-of-type {\n",
       "        vertical-align: middle;\n",
       "    }\n",
       "\n",
       "    .dataframe tbody tr th {\n",
       "        vertical-align: top;\n",
       "    }\n",
       "\n",
       "    .dataframe thead th {\n",
       "        text-align: right;\n",
       "    }\n",
       "</style>\n",
       "<table border=\"1\" class=\"dataframe\">\n",
       "  <thead>\n",
       "    <tr style=\"text-align: right;\">\n",
       "      <th></th>\n",
       "      <th>Pokemon</th>\n",
       "      <th>Type</th>\n",
       "    </tr>\n",
       "  </thead>\n",
       "  <tbody>\n",
       "    <tr>\n",
       "      <th>0</th>\n",
       "      <td>Bulbasaur</td>\n",
       "      <td>Grass</td>\n",
       "    </tr>\n",
       "    <tr>\n",
       "      <th>1</th>\n",
       "      <td>Ivysaur</td>\n",
       "      <td>Grass</td>\n",
       "    </tr>\n",
       "    <tr>\n",
       "      <th>2</th>\n",
       "      <td>Venusaur</td>\n",
       "      <td>Grass</td>\n",
       "    </tr>\n",
       "    <tr>\n",
       "      <th>3</th>\n",
       "      <td>Charmander</td>\n",
       "      <td>Fire</td>\n",
       "    </tr>\n",
       "    <tr>\n",
       "      <th>4</th>\n",
       "      <td>Charmeleon</td>\n",
       "      <td>Fire</td>\n",
       "    </tr>\n",
       "    <tr>\n",
       "      <th>...</th>\n",
       "      <td>...</td>\n",
       "      <td>...</td>\n",
       "    </tr>\n",
       "    <tr>\n",
       "      <th>716</th>\n",
       "      <td>Yveltal</td>\n",
       "      <td>Dark</td>\n",
       "    </tr>\n",
       "    <tr>\n",
       "      <th>717</th>\n",
       "      <td>Zygarde</td>\n",
       "      <td>Dragon</td>\n",
       "    </tr>\n",
       "    <tr>\n",
       "      <th>718</th>\n",
       "      <td>Diancie</td>\n",
       "      <td>Rock</td>\n",
       "    </tr>\n",
       "    <tr>\n",
       "      <th>719</th>\n",
       "      <td>Hoopa</td>\n",
       "      <td>Psychic</td>\n",
       "    </tr>\n",
       "    <tr>\n",
       "      <th>720</th>\n",
       "      <td>Volcanion</td>\n",
       "      <td>Fire</td>\n",
       "    </tr>\n",
       "  </tbody>\n",
       "</table>\n",
       "<p>721 rows × 2 columns</p>\n",
       "</div>"
      ],
      "text/plain": [
       "        Pokemon     Type\n",
       "0     Bulbasaur    Grass\n",
       "1       Ivysaur    Grass\n",
       "2      Venusaur    Grass\n",
       "3    Charmander     Fire\n",
       "4    Charmeleon     Fire\n",
       "..          ...      ...\n",
       "716     Yveltal     Dark\n",
       "717     Zygarde   Dragon\n",
       "718     Diancie     Rock\n",
       "719       Hoopa  Psychic\n",
       "720   Volcanion     Fire\n",
       "\n",
       "[721 rows x 2 columns]"
      ]
     },
     "execution_count": 3,
     "metadata": {},
     "output_type": "execute_result"
    }
   ],
   "source": [
    "df = pd.read_csv(\"./resources/pokemon.csv\")\n",
    "df   # pandas kütüphanesini kullanrak bir CSV dosyasını okur . ve bunu pandas dataframe e yükler."
   ]
  },
  {
   "cell_type": "code",
   "execution_count": 32,
   "id": "a618ead7",
   "metadata": {},
   "outputs": [
    {
     "data": {
      "text/plain": [
       "pandas.core.frame.DataFrame"
      ]
     },
     "execution_count": 32,
     "metadata": {},
     "output_type": "execute_result"
    }
   ],
   "source": [
    "type(df)  # df nin veri tipini döndürür"
   ]
  },
  {
   "cell_type": "code",
   "execution_count": 39,
   "id": "7e7939e8",
   "metadata": {},
   "outputs": [
    {
     "data": {
      "text/html": [
       "<div>\n",
       "<style scoped>\n",
       "    .dataframe tbody tr th:only-of-type {\n",
       "        vertical-align: middle;\n",
       "    }\n",
       "\n",
       "    .dataframe tbody tr th {\n",
       "        vertical-align: top;\n",
       "    }\n",
       "\n",
       "    .dataframe thead th {\n",
       "        text-align: right;\n",
       "    }\n",
       "</style>\n",
       "<table border=\"1\" class=\"dataframe\">\n",
       "  <thead>\n",
       "    <tr style=\"text-align: right;\">\n",
       "      <th></th>\n",
       "      <th>Pokemon</th>\n",
       "    </tr>\n",
       "  </thead>\n",
       "  <tbody>\n",
       "    <tr>\n",
       "      <th>0</th>\n",
       "      <td>Bulbasaur</td>\n",
       "    </tr>\n",
       "    <tr>\n",
       "      <th>1</th>\n",
       "      <td>Ivysaur</td>\n",
       "    </tr>\n",
       "    <tr>\n",
       "      <th>2</th>\n",
       "      <td>Venusaur</td>\n",
       "    </tr>\n",
       "    <tr>\n",
       "      <th>3</th>\n",
       "      <td>Charmander</td>\n",
       "    </tr>\n",
       "    <tr>\n",
       "      <th>4</th>\n",
       "      <td>Charmeleon</td>\n",
       "    </tr>\n",
       "    <tr>\n",
       "      <th>...</th>\n",
       "      <td>...</td>\n",
       "    </tr>\n",
       "    <tr>\n",
       "      <th>716</th>\n",
       "      <td>Yveltal</td>\n",
       "    </tr>\n",
       "    <tr>\n",
       "      <th>717</th>\n",
       "      <td>Zygarde</td>\n",
       "    </tr>\n",
       "    <tr>\n",
       "      <th>718</th>\n",
       "      <td>Diancie</td>\n",
       "    </tr>\n",
       "    <tr>\n",
       "      <th>719</th>\n",
       "      <td>Hoopa</td>\n",
       "    </tr>\n",
       "    <tr>\n",
       "      <th>720</th>\n",
       "      <td>Volcanion</td>\n",
       "    </tr>\n",
       "  </tbody>\n",
       "</table>\n",
       "<p>721 rows × 1 columns</p>\n",
       "</div>"
      ],
      "text/plain": [
       "        Pokemon\n",
       "0     Bulbasaur\n",
       "1       Ivysaur\n",
       "2      Venusaur\n",
       "3    Charmander\n",
       "4    Charmeleon\n",
       "..          ...\n",
       "716     Yveltal\n",
       "717     Zygarde\n",
       "718     Diancie\n",
       "719       Hoopa\n",
       "720   Volcanion\n",
       "\n",
       "[721 rows x 1 columns]"
      ]
     },
     "execution_count": 39,
     "metadata": {},
     "output_type": "execute_result"
    }
   ],
   "source": [
    "pd.read_csv(\"./resources/resources/pokemon.csv\" , usecols=[\"Pokemon\"])\n",
    "# usecols ile hangi sütunların seçileceği belirtilir."
   ]
  },
  {
   "cell_type": "code",
   "execution_count": 4,
   "id": "2444b850",
   "metadata": {},
   "outputs": [
    {
     "data": {
      "text/plain": [
       "0       Bulbasaur\n",
       "1         Ivysaur\n",
       "2        Venusaur\n",
       "3      Charmander\n",
       "4      Charmeleon\n",
       "          ...    \n",
       "716       Yveltal\n",
       "717       Zygarde\n",
       "718       Diancie\n",
       "719         Hoopa\n",
       "720     Volcanion\n",
       "Name: Pokemon, Length: 721, dtype: object"
      ]
     },
     "execution_count": 4,
     "metadata": {},
     "output_type": "execute_result"
    }
   ],
   "source": [
    "serie = pd.read_csv(\"./resources/pokemon.csv\" , usecols=[\"Pokemon\"]).squeeze(\"columns\")\n",
    "serie  # squeeze dataframei seriye çevirir."
   ]
  },
  {
   "cell_type": "code",
   "execution_count": 28,
   "id": "a3cdd176",
   "metadata": {},
   "outputs": [
    {
     "data": {
      "text/plain": [
       "pandas.core.series.Series"
      ]
     },
     "execution_count": 28,
     "metadata": {},
     "output_type": "execute_result"
    }
   ],
   "source": [
    "type(serie)"
   ]
  },
  {
   "cell_type": "code",
   "execution_count": 29,
   "id": "95a93fea",
   "metadata": {},
   "outputs": [
    {
     "data": {
      "text/plain": [
       "716      Yveltal\n",
       "717      Zygarde\n",
       "718      Diancie\n",
       "719        Hoopa\n",
       "720    Volcanion\n",
       "Name: Pokemon, dtype: object"
      ]
     },
     "execution_count": 29,
     "metadata": {},
     "output_type": "execute_result"
    }
   ],
   "source": [
    "serie.head() # üstten beş kayıt gösteririr\n",
    "serie.head(n=2) # üstten 2 kaydı gösterir\n",
    "serie.tail() # sondan 5 kaydı gösterir"
   ]
  },
  {
   "cell_type": "code",
   "execution_count": null,
   "id": "6b640dc7",
   "metadata": {},
   "outputs": [],
   "source": [
    "dir(serie) # nesnenin sahip olduğu özellikleri ve metodları getirir."
   ]
  },
  {
   "cell_type": "code",
   "execution_count": null,
   "id": "a17917ba",
   "metadata": {},
   "outputs": [],
   "source": [
    "sorted(serie) # küçükten büyüğe doğru liste olarak döndürür"
   ]
  },
  {
   "cell_type": "code",
   "execution_count": null,
   "id": "7e1c9b35",
   "metadata": {},
   "outputs": [],
   "source": [
    "sorted(serie ,reverse=True) #  tersten sıralıyor (büyükten küçüğe sıralar)"
   ]
  },
  {
   "cell_type": "code",
   "execution_count": null,
   "id": "26a835df",
   "metadata": {},
   "outputs": [],
   "source": [
    "list(serie) # seriyi liste haline getiriyor"
   ]
  },
  {
   "cell_type": "code",
   "execution_count": null,
   "id": "652b056c",
   "metadata": {},
   "outputs": [],
   "source": [
    "dict(serie) # seri yi sözlüğe dönüştürür"
   ]
  },
  {
   "cell_type": "code",
   "execution_count": 59,
   "id": "a713ee45",
   "metadata": {},
   "outputs": [
    {
     "data": {
      "text/plain": [
       "459    Abomasnow\n",
       "62          Abra\n",
       "358        Absol\n",
       "616     Accelgor\n",
       "680    Aegislash\n",
       "         ...    \n",
       "570      Zoroark\n",
       "569        Zorua\n",
       "40         Zubat\n",
       "633     Zweilous\n",
       "717      Zygarde\n",
       "Name: Pokemon, Length: 721, dtype: object"
      ]
     },
     "execution_count": 59,
     "metadata": {},
     "output_type": "execute_result"
    }
   ],
   "source": [
    "serie.sort_values() # pandas serisini değerleine göre sıralar sort_value (küçükten büyüğe sıralam yapar)"
   ]
  },
  {
   "cell_type": "code",
   "execution_count": 45,
   "id": "2a126362",
   "metadata": {},
   "outputs": [
    {
     "data": {
      "text/plain": [
       "717      Zygarde\n",
       "633     Zweilous\n",
       "40         Zubat\n",
       "569        Zorua\n",
       "570      Zoroark\n",
       "         ...    \n",
       "680    Aegislash\n",
       "616     Accelgor\n",
       "358        Absol\n",
       "62          Abra\n",
       "459    Abomasnow\n",
       "Name: Pokemon, Length: 721, dtype: object"
      ]
     },
     "execution_count": 45,
     "metadata": {},
     "output_type": "execute_result"
    }
   ],
   "source": [
    "serie.sort_values(ascending=False) # büyükten küçüğe doğru bir sıralama verir"
   ]
  },
  {
   "cell_type": "code",
   "execution_count": 38,
   "id": "a73d236b",
   "metadata": {},
   "outputs": [],
   "source": [
    "# (inplace=True) seri üzerinde yapılan işlemler kalıcı hale gelir"
   ]
  },
  {
   "cell_type": "code",
   "execution_count": 6,
   "id": "bc389e1f",
   "metadata": {},
   "outputs": [
    {
     "data": {
      "text/plain": [
       "Pokemon\n",
       "Bulbasaur       Grass\n",
       "Ivysaur         Grass\n",
       "Venusaur        Grass\n",
       "Charmander       Fire\n",
       "Charmeleon       Fire\n",
       "               ...   \n",
       "Yveltal          Dark\n",
       "Zygarde        Dragon\n",
       "Diancie          Rock\n",
       "Hoopa         Psychic\n",
       "Volcanion        Fire\n",
       "Name: Type, Length: 721, dtype: object"
      ]
     },
     "execution_count": 6,
     "metadata": {},
     "output_type": "execute_result"
    }
   ],
   "source": [
    "seri2 = pd.read_csv(\"./resources/pokemon.csv\" ,\n",
    "                   index_col=\"Pokemon\").squeeze(\"columns\")\n",
    "seri2"
   ]
  },
  {
   "cell_type": "code",
   "execution_count": 50,
   "id": "427022ab",
   "metadata": {},
   "outputs": [
    {
     "data": {
      "text/plain": [
       "Pokemon\n",
       "Abomasnow      Grass\n",
       "Abra         Psychic\n",
       "Absol           Dark\n",
       "Accelgor         Bug\n",
       "Aegislash      Steel\n",
       "              ...   \n",
       "Zoroark         Dark\n",
       "Zorua           Dark\n",
       "Zubat         Poison\n",
       "Zweilous        Dark\n",
       "Zygarde       Dragon\n",
       "Name: Type, Length: 721, dtype: object"
      ]
     },
     "execution_count": 50,
     "metadata": {},
     "output_type": "execute_result"
    }
   ],
   "source": [
    "seri2.sort_index(inplace=True)\n",
    "seri2\n",
    "# inplace yapılan işlemi kalıcı hale getirir. küçükten büyüğe sıralar(sort_index)indexe göre"
   ]
  },
  {
   "cell_type": "code",
   "execution_count": 66,
   "id": "d8fd82bf",
   "metadata": {},
   "outputs": [
    {
     "data": {
      "text/plain": [
       "True"
      ]
     },
     "execution_count": 66,
     "metadata": {},
     "output_type": "execute_result"
    }
   ],
   "source": [
    "\"Abra\" in seri2 # Abra seri2 içinde var mı diye sordum"
   ]
  },
  {
   "cell_type": "code",
   "execution_count": 67,
   "id": "3a68db1f",
   "metadata": {},
   "outputs": [
    {
     "data": {
      "text/plain": [
       "True"
      ]
     },
     "execution_count": 67,
     "metadata": {},
     "output_type": "execute_result"
    }
   ],
   "source": [
    "\"Rock\" in seri2.values # Rock değeri bu seride var mı diye aratttık"
   ]
  },
  {
   "cell_type": "code",
   "execution_count": 68,
   "id": "f0636ce8",
   "metadata": {},
   "outputs": [
    {
     "data": {
      "text/plain": [
       "Index(['Abomasnow', 'Abra', 'Absol', 'Accelgor', 'Aegislash', 'Aerodactyl',\n",
       "       'Aggron', 'Aipom', 'Alakazam', 'Alomomola',\n",
       "       ...\n",
       "       'Zangoose', 'Zapdos', 'Zebstrika', 'Zekrom', 'Zigzagoon', 'Zoroark',\n",
       "       'Zorua', 'Zubat', 'Zweilous', 'Zygarde'],\n",
       "      dtype='object', name='Pokemon', length=721)"
      ]
     },
     "execution_count": 68,
     "metadata": {},
     "output_type": "execute_result"
    }
   ],
   "source": [
    "seri2.index # pandas serisinin indexlerini döndürür"
   ]
  },
  {
   "cell_type": "code",
   "execution_count": 69,
   "id": "06e054a3",
   "metadata": {},
   "outputs": [
    {
     "data": {
      "text/plain": [
       "pandas.core.indexes.base.Index"
      ]
     },
     "execution_count": 69,
     "metadata": {},
     "output_type": "execute_result"
    }
   ],
   "source": [
    "type(seri2.index)"
   ]
  },
  {
   "cell_type": "code",
   "execution_count": 70,
   "id": "bd7237e2",
   "metadata": {},
   "outputs": [
    {
     "data": {
      "text/plain": [
       "Pokemon\n",
       "Abomasnow      Grass\n",
       "Abra         Psychic\n",
       "Absol           Dark\n",
       "Accelgor         Bug\n",
       "Aegislash      Steel\n",
       "              ...   \n",
       "Zoroark         Dark\n",
       "Zorua           Dark\n",
       "Zubat         Poison\n",
       "Zweilous        Dark\n",
       "Zygarde       Dragon\n",
       "Name: Type, Length: 721, dtype: object"
      ]
     },
     "execution_count": 70,
     "metadata": {},
     "output_type": "execute_result"
    }
   ],
   "source": [
    "seri2   # serideki bir elemanı aratmak için index kullanırız."
   ]
  },
  {
   "cell_type": "code",
   "execution_count": 71,
   "id": "ff7245bd",
   "metadata": {},
   "outputs": [
    {
     "data": {
      "text/plain": [
       "'Psychic'"
      ]
     },
     "execution_count": 71,
     "metadata": {},
     "output_type": "execute_result"
    }
   ],
   "source": [
    "seri2 [\"Abra\"] # Abra indexindeki değeri verir"
   ]
  },
  {
   "cell_type": "code",
   "execution_count": 72,
   "id": "aedb5d56",
   "metadata": {},
   "outputs": [
    {
     "data": {
      "text/plain": [
       "'Psychic'"
      ]
     },
     "execution_count": 72,
     "metadata": {},
     "output_type": "execute_result"
    }
   ],
   "source": [
    " seri2[1] # 1. indexin value sini verir."
   ]
  },
  {
   "cell_type": "code",
   "execution_count": 74,
   "id": "fd880278",
   "metadata": {},
   "outputs": [
    {
     "data": {
      "text/plain": [
       "Pokemon\n",
       "Abra          Psychic\n",
       "Accelgor          Bug\n",
       "Aerodactyl       Rock\n",
       "Name: Type, dtype: object"
      ]
     },
     "execution_count": 74,
     "metadata": {},
     "output_type": "execute_result"
    }
   ],
   "source": [
    "seri2[[1 , 3 , 5]] # 1. 3. ve 5. indexi ve valuesini verir "
   ]
  },
  {
   "cell_type": "code",
   "execution_count": 75,
   "id": "585142e5",
   "metadata": {},
   "outputs": [
    {
     "data": {
      "text/plain": [
       "Pokemon\n",
       "Abra        Psychic\n",
       "Accelgor        Bug\n",
       "Name: Type, dtype: object"
      ]
     },
     "execution_count": 75,
     "metadata": {},
     "output_type": "execute_result"
    }
   ],
   "source": [
    "seri2[[\"Abra\" ,\"Accelgor\"]]"
   ]
  },
  {
   "cell_type": "code",
   "execution_count": 76,
   "id": "a2a7ae79",
   "metadata": {},
   "outputs": [
    {
     "data": {
      "text/plain": [
       "Pokemon\n",
       "Abomasnow       Grass\n",
       "Abra          Psychic\n",
       "Absol            Dark\n",
       "Accelgor          Bug\n",
       "Aegislash       Steel\n",
       "Aerodactyl       Rock\n",
       "Aggron          Steel\n",
       "Aipom          Normal\n",
       "Name: Type, dtype: object"
      ]
     },
     "execution_count": 76,
     "metadata": {},
     "output_type": "execute_result"
    }
   ],
   "source": [
    "seri2[0:8]# 0  dahil 8 dahil değildir"
   ]
  },
  {
   "cell_type": "code",
   "execution_count": 77,
   "id": "c8d84149",
   "metadata": {},
   "outputs": [
    {
     "data": {
      "text/plain": [
       "Pokemon\n",
       "Abomasnow    Grass\n",
       "Absol         Dark\n",
       "Aegislash    Steel\n",
       "Aggron       Steel\n",
       "Name: Type, dtype: object"
      ]
     },
     "execution_count": 77,
     "metadata": {},
     "output_type": "execute_result"
    }
   ],
   "source": [
    "seri2[0:8:2]  # 0 start 8 stop 2 step kaçar kaçar artacağı gösterir."
   ]
  },
  {
   "cell_type": "code",
   "execution_count": 79,
   "id": "11729863",
   "metadata": {},
   "outputs": [
    {
     "data": {
      "text/plain": [
       "Pokemon\n",
       "Abomasnow      Grass\n",
       "Abra         Psychic\n",
       "Absol           Dark\n",
       "Name: Type, dtype: object"
      ]
     },
     "execution_count": 79,
     "metadata": {},
     "output_type": "execute_result"
    }
   ],
   "source": [
    "seri2[:3] # başını otomatik olarak 0 alır"
   ]
  },
  {
   "cell_type": "code",
   "execution_count": 80,
   "id": "9544e6bd",
   "metadata": {},
   "outputs": [
    {
     "data": {
      "text/plain": [
       "Pokemon\n",
       "Zubat       Poison\n",
       "Zweilous      Dark\n",
       "Zygarde     Dragon\n",
       "Name: Type, dtype: object"
      ]
     },
     "execution_count": 80,
     "metadata": {},
     "output_type": "execute_result"
    }
   ],
   "source": [
    "seri2[718:]  # serinin 718. öğesinden sonraki sona kadar olan öğeleri getirir."
   ]
  },
  {
   "cell_type": "code",
   "execution_count": 81,
   "id": "f1446099",
   "metadata": {},
   "outputs": [
    {
     "data": {
      "text/plain": [
       "'Dragon'"
      ]
     },
     "execution_count": 81,
     "metadata": {},
     "output_type": "execute_result"
    }
   ],
   "source": [
    "seri2[-1] # son elemanı getirir "
   ]
  },
  {
   "cell_type": "code",
   "execution_count": 83,
   "id": "ca66616a",
   "metadata": {},
   "outputs": [
    {
     "data": {
      "text/plain": [
       "Pokemon\n",
       "Wigglytuff      Normal\n",
       "Wingull          Water\n",
       "Wobbuffet      Psychic\n",
       "Woobat         Psychic\n",
       "Wooper           Water\n",
       "Wormadam           Bug\n",
       "Wurmple            Bug\n",
       "Wynaut         Psychic\n",
       "Xatu           Psychic\n",
       "Xerneas          Fairy\n",
       "Yamask           Ghost\n",
       "Yanma              Bug\n",
       "Yanmega            Bug\n",
       "Yveltal           Dark\n",
       "Zangoose        Normal\n",
       "Zapdos        Electric\n",
       "Zebstrika     Electric\n",
       "Zekrom          Dragon\n",
       "Zigzagoon       Normal\n",
       "Zoroark           Dark\n",
       "Zorua             Dark\n",
       "Zubat           Poison\n",
       "Zweilous          Dark\n",
       "Zygarde         Dragon\n",
       "Name: Type, dtype: object"
      ]
     },
     "execution_count": 83,
     "metadata": {},
     "output_type": "execute_result"
    }
   ],
   "source": [
    "seri2[-24:] # son 24 elemanı gösterir "
   ]
  },
  {
   "cell_type": "raw",
   "id": "eb6f71cc",
   "metadata": {},
   "source": []
  },
  {
   "cell_type": "code",
   "execution_count": 51,
   "id": "e49887ec",
   "metadata": {},
   "outputs": [
    {
     "data": {
      "text/plain": [
       "'Psychic'"
      ]
     },
     "execution_count": 51,
     "metadata": {},
     "output_type": "execute_result"
    }
   ],
   "source": [
    "seri2[\"Abra\"]"
   ]
  },
  {
   "cell_type": "code",
   "execution_count": 53,
   "id": "589d361e",
   "metadata": {},
   "outputs": [
    {
     "data": {
      "text/plain": [
       "'Psychic'"
      ]
     },
     "execution_count": 53,
     "metadata": {},
     "output_type": "execute_result"
    }
   ],
   "source": [
    "seri2.get(\"Abra\" , \"Key Yok\") # get metodu burada indexine karşılık gelen değerini getirir\n",
    "                              # indexin karşılığı yoksa birşey yapmaz"
   ]
  },
  {
   "cell_type": "code",
   "execution_count": 87,
   "id": "bc49f563",
   "metadata": {},
   "outputs": [
    {
     "data": {
      "text/plain": [
       "Pokemon\n",
       "Abomasnow      Grass\n",
       "Abra         Merhaba\n",
       "Absol           Dark\n",
       "Accelgor         Bug\n",
       "Aegislash      Steel\n",
       "              ...   \n",
       "Zoroark         Dark\n",
       "Zorua           Dark\n",
       "Zubat         Poison\n",
       "Zweilous        Dark\n",
       "Zygarde       Dragon\n",
       "Name: Type, Length: 721, dtype: object"
      ]
     },
     "execution_count": 87,
     "metadata": {},
     "output_type": "execute_result"
    }
   ],
   "source": [
    "seri2[\"Abra\"] =\"Merhaba\" # Abranın değerini değiştirdik\n",
    "seri2"
   ]
  },
  {
   "cell_type": "code",
   "execution_count": 55,
   "id": "76eaa6b4",
   "metadata": {},
   "outputs": [
    {
     "data": {
      "text/plain": [
       "Pokemon\n",
       "Abomasnow          A\n",
       "Abra         Psychic\n",
       "Absol              L\n",
       "Accelgor         Bug\n",
       "Aegislash          İ\n",
       "              ...   \n",
       "Zoroark         Dark\n",
       "Zorua           Dark\n",
       "Zubat         Poison\n",
       "Zweilous        Dark\n",
       "Zygarde       Dragon\n",
       "Name: Type, Length: 721, dtype: object"
      ]
     },
     "execution_count": 55,
     "metadata": {},
     "output_type": "execute_result"
    }
   ],
   "source": [
    "seri2[[0, 2, 4]]= [\"A\" , \"L\" , \"İ\"] # Birden fazla indexteki değeri değiştirdik\n",
    "seri2"
   ]
  },
  {
   "cell_type": "code",
   "execution_count": 7,
   "id": "530965a2",
   "metadata": {},
   "outputs": [
    {
     "data": {
      "text/html": [
       "<div>\n",
       "<style scoped>\n",
       "    .dataframe tbody tr th:only-of-type {\n",
       "        vertical-align: middle;\n",
       "    }\n",
       "\n",
       "    .dataframe tbody tr th {\n",
       "        vertical-align: top;\n",
       "    }\n",
       "\n",
       "    .dataframe thead th {\n",
       "        text-align: right;\n",
       "    }\n",
       "</style>\n",
       "<table border=\"1\" class=\"dataframe\">\n",
       "  <thead>\n",
       "    <tr style=\"text-align: right;\">\n",
       "      <th></th>\n",
       "      <th>Name</th>\n",
       "      <th>Team</th>\n",
       "      <th>Number</th>\n",
       "      <th>Position</th>\n",
       "      <th>Age</th>\n",
       "      <th>Height</th>\n",
       "      <th>Weight</th>\n",
       "      <th>College</th>\n",
       "      <th>Salary</th>\n",
       "    </tr>\n",
       "  </thead>\n",
       "  <tbody>\n",
       "    <tr>\n",
       "      <th>0</th>\n",
       "      <td>Avery Bradley</td>\n",
       "      <td>Boston Celtics</td>\n",
       "      <td>0.0</td>\n",
       "      <td>PG</td>\n",
       "      <td>25.0</td>\n",
       "      <td>6-2</td>\n",
       "      <td>180.0</td>\n",
       "      <td>Texas</td>\n",
       "      <td>7730337.0</td>\n",
       "    </tr>\n",
       "    <tr>\n",
       "      <th>1</th>\n",
       "      <td>Jae Crowder</td>\n",
       "      <td>Boston Celtics</td>\n",
       "      <td>99.0</td>\n",
       "      <td>SF</td>\n",
       "      <td>25.0</td>\n",
       "      <td>6-6</td>\n",
       "      <td>235.0</td>\n",
       "      <td>Marquette</td>\n",
       "      <td>6796117.0</td>\n",
       "    </tr>\n",
       "    <tr>\n",
       "      <th>2</th>\n",
       "      <td>John Holland</td>\n",
       "      <td>Boston Celtics</td>\n",
       "      <td>30.0</td>\n",
       "      <td>SG</td>\n",
       "      <td>27.0</td>\n",
       "      <td>6-5</td>\n",
       "      <td>205.0</td>\n",
       "      <td>Boston University</td>\n",
       "      <td>NaN</td>\n",
       "    </tr>\n",
       "    <tr>\n",
       "      <th>3</th>\n",
       "      <td>R.J. Hunter</td>\n",
       "      <td>Boston Celtics</td>\n",
       "      <td>28.0</td>\n",
       "      <td>SG</td>\n",
       "      <td>22.0</td>\n",
       "      <td>6-5</td>\n",
       "      <td>185.0</td>\n",
       "      <td>Georgia State</td>\n",
       "      <td>1148640.0</td>\n",
       "    </tr>\n",
       "    <tr>\n",
       "      <th>4</th>\n",
       "      <td>Jonas Jerebko</td>\n",
       "      <td>Boston Celtics</td>\n",
       "      <td>8.0</td>\n",
       "      <td>PF</td>\n",
       "      <td>29.0</td>\n",
       "      <td>6-10</td>\n",
       "      <td>231.0</td>\n",
       "      <td>NaN</td>\n",
       "      <td>5000000.0</td>\n",
       "    </tr>\n",
       "    <tr>\n",
       "      <th>...</th>\n",
       "      <td>...</td>\n",
       "      <td>...</td>\n",
       "      <td>...</td>\n",
       "      <td>...</td>\n",
       "      <td>...</td>\n",
       "      <td>...</td>\n",
       "      <td>...</td>\n",
       "      <td>...</td>\n",
       "      <td>...</td>\n",
       "    </tr>\n",
       "    <tr>\n",
       "      <th>453</th>\n",
       "      <td>Shelvin Mack</td>\n",
       "      <td>Utah Jazz</td>\n",
       "      <td>8.0</td>\n",
       "      <td>PG</td>\n",
       "      <td>26.0</td>\n",
       "      <td>6-3</td>\n",
       "      <td>203.0</td>\n",
       "      <td>Butler</td>\n",
       "      <td>2433333.0</td>\n",
       "    </tr>\n",
       "    <tr>\n",
       "      <th>454</th>\n",
       "      <td>Raul Neto</td>\n",
       "      <td>Utah Jazz</td>\n",
       "      <td>25.0</td>\n",
       "      <td>PG</td>\n",
       "      <td>24.0</td>\n",
       "      <td>6-1</td>\n",
       "      <td>179.0</td>\n",
       "      <td>NaN</td>\n",
       "      <td>900000.0</td>\n",
       "    </tr>\n",
       "    <tr>\n",
       "      <th>455</th>\n",
       "      <td>Tibor Pleiss</td>\n",
       "      <td>Utah Jazz</td>\n",
       "      <td>21.0</td>\n",
       "      <td>C</td>\n",
       "      <td>26.0</td>\n",
       "      <td>7-3</td>\n",
       "      <td>256.0</td>\n",
       "      <td>NaN</td>\n",
       "      <td>2900000.0</td>\n",
       "    </tr>\n",
       "    <tr>\n",
       "      <th>456</th>\n",
       "      <td>Jeff Withey</td>\n",
       "      <td>Utah Jazz</td>\n",
       "      <td>24.0</td>\n",
       "      <td>C</td>\n",
       "      <td>26.0</td>\n",
       "      <td>7-0</td>\n",
       "      <td>231.0</td>\n",
       "      <td>Kansas</td>\n",
       "      <td>947276.0</td>\n",
       "    </tr>\n",
       "    <tr>\n",
       "      <th>457</th>\n",
       "      <td>NaN</td>\n",
       "      <td>NaN</td>\n",
       "      <td>NaN</td>\n",
       "      <td>NaN</td>\n",
       "      <td>NaN</td>\n",
       "      <td>NaN</td>\n",
       "      <td>NaN</td>\n",
       "      <td>NaN</td>\n",
       "      <td>NaN</td>\n",
       "    </tr>\n",
       "  </tbody>\n",
       "</table>\n",
       "<p>458 rows × 9 columns</p>\n",
       "</div>"
      ],
      "text/plain": [
       "              Name            Team  Number Position   Age Height  Weight  \\\n",
       "0    Avery Bradley  Boston Celtics     0.0       PG  25.0    6-2   180.0   \n",
       "1      Jae Crowder  Boston Celtics    99.0       SF  25.0    6-6   235.0   \n",
       "2     John Holland  Boston Celtics    30.0       SG  27.0    6-5   205.0   \n",
       "3      R.J. Hunter  Boston Celtics    28.0       SG  22.0    6-5   185.0   \n",
       "4    Jonas Jerebko  Boston Celtics     8.0       PF  29.0   6-10   231.0   \n",
       "..             ...             ...     ...      ...   ...    ...     ...   \n",
       "453   Shelvin Mack       Utah Jazz     8.0       PG  26.0    6-3   203.0   \n",
       "454      Raul Neto       Utah Jazz    25.0       PG  24.0    6-1   179.0   \n",
       "455   Tibor Pleiss       Utah Jazz    21.0        C  26.0    7-3   256.0   \n",
       "456    Jeff Withey       Utah Jazz    24.0        C  26.0    7-0   231.0   \n",
       "457            NaN             NaN     NaN      NaN   NaN    NaN     NaN   \n",
       "\n",
       "               College     Salary  \n",
       "0                Texas  7730337.0  \n",
       "1            Marquette  6796117.0  \n",
       "2    Boston University        NaN  \n",
       "3        Georgia State  1148640.0  \n",
       "4                  NaN  5000000.0  \n",
       "..                 ...        ...  \n",
       "453             Butler  2433333.0  \n",
       "454                NaN   900000.0  \n",
       "455                NaN  2900000.0  \n",
       "456             Kansas   947276.0  \n",
       "457                NaN        NaN  \n",
       "\n",
       "[458 rows x 9 columns]"
      ]
     },
     "execution_count": 7,
     "metadata": {},
     "output_type": "execute_result"
    }
   ],
   "source": [
    "nba = pd.read_csv(\"./resources/nba.csv\")\n",
    "nba"
   ]
  },
  {
   "cell_type": "code",
   "execution_count": 92,
   "id": "9c9a6ed9",
   "metadata": {},
   "outputs": [
    {
     "data": {
      "text/plain": [
       "pandas.core.frame.DataFrame"
      ]
     },
     "execution_count": 92,
     "metadata": {},
     "output_type": "execute_result"
    }
   ],
   "source": [
    "type(nba)"
   ]
  },
  {
   "cell_type": "code",
   "execution_count": 93,
   "id": "200ab4d9",
   "metadata": {},
   "outputs": [
    {
     "data": {
      "text/html": [
       "<div>\n",
       "<style scoped>\n",
       "    .dataframe tbody tr th:only-of-type {\n",
       "        vertical-align: middle;\n",
       "    }\n",
       "\n",
       "    .dataframe tbody tr th {\n",
       "        vertical-align: top;\n",
       "    }\n",
       "\n",
       "    .dataframe thead th {\n",
       "        text-align: right;\n",
       "    }\n",
       "</style>\n",
       "<table border=\"1\" class=\"dataframe\">\n",
       "  <thead>\n",
       "    <tr style=\"text-align: right;\">\n",
       "      <th></th>\n",
       "      <th>Name</th>\n",
       "      <th>Team</th>\n",
       "      <th>Number</th>\n",
       "      <th>Position</th>\n",
       "      <th>Age</th>\n",
       "      <th>Height</th>\n",
       "      <th>Weight</th>\n",
       "      <th>College</th>\n",
       "      <th>Salary</th>\n",
       "    </tr>\n",
       "  </thead>\n",
       "  <tbody>\n",
       "    <tr>\n",
       "      <th>0</th>\n",
       "      <td>Avery Bradley</td>\n",
       "      <td>Boston Celtics</td>\n",
       "      <td>0.0</td>\n",
       "      <td>PG</td>\n",
       "      <td>25.0</td>\n",
       "      <td>6-2</td>\n",
       "      <td>180.0</td>\n",
       "      <td>Texas</td>\n",
       "      <td>7730337.0</td>\n",
       "    </tr>\n",
       "    <tr>\n",
       "      <th>1</th>\n",
       "      <td>Jae Crowder</td>\n",
       "      <td>Boston Celtics</td>\n",
       "      <td>99.0</td>\n",
       "      <td>SF</td>\n",
       "      <td>25.0</td>\n",
       "      <td>6-6</td>\n",
       "      <td>235.0</td>\n",
       "      <td>Marquette</td>\n",
       "      <td>6796117.0</td>\n",
       "    </tr>\n",
       "  </tbody>\n",
       "</table>\n",
       "</div>"
      ],
      "text/plain": [
       "            Name            Team  Number Position   Age Height  Weight  \\\n",
       "0  Avery Bradley  Boston Celtics     0.0       PG  25.0    6-2   180.0   \n",
       "1    Jae Crowder  Boston Celtics    99.0       SF  25.0    6-6   235.0   \n",
       "\n",
       "     College     Salary  \n",
       "0      Texas  7730337.0  \n",
       "1  Marquette  6796117.0  "
      ]
     },
     "execution_count": 93,
     "metadata": {},
     "output_type": "execute_result"
    }
   ],
   "source": [
    "nba.head(2) # Baştan ilk 2 satırı getirir"
   ]
  },
  {
   "cell_type": "code",
   "execution_count": 94,
   "id": "d5a5c521",
   "metadata": {},
   "outputs": [
    {
     "data": {
      "text/html": [
       "<div>\n",
       "<style scoped>\n",
       "    .dataframe tbody tr th:only-of-type {\n",
       "        vertical-align: middle;\n",
       "    }\n",
       "\n",
       "    .dataframe tbody tr th {\n",
       "        vertical-align: top;\n",
       "    }\n",
       "\n",
       "    .dataframe thead th {\n",
       "        text-align: right;\n",
       "    }\n",
       "</style>\n",
       "<table border=\"1\" class=\"dataframe\">\n",
       "  <thead>\n",
       "    <tr style=\"text-align: right;\">\n",
       "      <th></th>\n",
       "      <th>Name</th>\n",
       "      <th>Team</th>\n",
       "      <th>Number</th>\n",
       "      <th>Position</th>\n",
       "      <th>Age</th>\n",
       "      <th>Height</th>\n",
       "      <th>Weight</th>\n",
       "      <th>College</th>\n",
       "      <th>Salary</th>\n",
       "    </tr>\n",
       "  </thead>\n",
       "  <tbody>\n",
       "    <tr>\n",
       "      <th>456</th>\n",
       "      <td>Jeff Withey</td>\n",
       "      <td>Utah Jazz</td>\n",
       "      <td>24.0</td>\n",
       "      <td>C</td>\n",
       "      <td>26.0</td>\n",
       "      <td>7-0</td>\n",
       "      <td>231.0</td>\n",
       "      <td>Kansas</td>\n",
       "      <td>947276.0</td>\n",
       "    </tr>\n",
       "    <tr>\n",
       "      <th>457</th>\n",
       "      <td>NaN</td>\n",
       "      <td>NaN</td>\n",
       "      <td>NaN</td>\n",
       "      <td>NaN</td>\n",
       "      <td>NaN</td>\n",
       "      <td>NaN</td>\n",
       "      <td>NaN</td>\n",
       "      <td>NaN</td>\n",
       "      <td>NaN</td>\n",
       "    </tr>\n",
       "  </tbody>\n",
       "</table>\n",
       "</div>"
      ],
      "text/plain": [
       "            Name       Team  Number Position   Age Height  Weight College  \\\n",
       "456  Jeff Withey  Utah Jazz    24.0        C  26.0    7-0   231.0  Kansas   \n",
       "457          NaN        NaN     NaN      NaN   NaN    NaN     NaN     NaN   \n",
       "\n",
       "       Salary  \n",
       "456  947276.0  \n",
       "457       NaN  "
      ]
     },
     "execution_count": 94,
     "metadata": {},
     "output_type": "execute_result"
    }
   ],
   "source": [
    "nba.tail(2) # Sondan 2 satırı getirir"
   ]
  },
  {
   "cell_type": "code",
   "execution_count": 95,
   "id": "f11e305b",
   "metadata": {},
   "outputs": [
    {
     "data": {
      "text/plain": [
       "RangeIndex(start=0, stop=458, step=1)"
      ]
     },
     "execution_count": 95,
     "metadata": {},
     "output_type": "execute_result"
    }
   ],
   "source": [
    "nba.index # dataframe alanındaki bilgiyi verir"
   ]
  },
  {
   "cell_type": "code",
   "execution_count": 96,
   "id": "f27c97c3",
   "metadata": {},
   "outputs": [
    {
     "data": {
      "text/plain": [
       "array([['Avery Bradley', 'Boston Celtics', 0.0, ..., 180.0, 'Texas',\n",
       "        7730337.0],\n",
       "       ['Jae Crowder', 'Boston Celtics', 99.0, ..., 235.0, 'Marquette',\n",
       "        6796117.0],\n",
       "       ['John Holland', 'Boston Celtics', 30.0, ..., 205.0,\n",
       "        'Boston University', nan],\n",
       "       ...,\n",
       "       ['Tibor Pleiss', 'Utah Jazz', 21.0, ..., 256.0, nan, 2900000.0],\n",
       "       ['Jeff Withey', 'Utah Jazz', 24.0, ..., 231.0, 'Kansas', 947276.0],\n",
       "       [nan, nan, nan, ..., nan, nan, nan]], dtype=object)"
      ]
     },
     "execution_count": 96,
     "metadata": {},
     "output_type": "execute_result"
    }
   ],
   "source": [
    "nba.values # çok boyutlu liste oluşturur ve listeyi geri döndürür. (dataframe in değerlerini döndürür)"
   ]
  },
  {
   "cell_type": "code",
   "execution_count": 57,
   "id": "3e803c26",
   "metadata": {},
   "outputs": [
    {
     "data": {
      "text/plain": [
       "(458, 9)"
      ]
     },
     "execution_count": 57,
     "metadata": {},
     "output_type": "execute_result"
    }
   ],
   "source": [
    "nba.shape  # satır ve sütun sayısını döndürür."
   ]
  },
  {
   "cell_type": "code",
   "execution_count": 97,
   "id": "1e5eaeca",
   "metadata": {},
   "outputs": [
    {
     "data": {
      "text/plain": [
       "[RangeIndex(start=0, stop=458, step=1),\n",
       " Index(['Name', 'Team', 'Number', 'Position', 'Age', 'Height', 'Weight',\n",
       "        'College', 'Salary'],\n",
       "       dtype='object')]"
      ]
     },
     "execution_count": 97,
     "metadata": {},
     "output_type": "execute_result"
    }
   ],
   "source": [
    "nba.axes # hem sütun hem index bilgisi verir "
   ]
  },
  {
   "cell_type": "code",
   "execution_count": 98,
   "id": "96a40f5a",
   "metadata": {},
   "outputs": [
    {
     "data": {
      "text/plain": [
       "Name         object\n",
       "Team         object\n",
       "Number      float64\n",
       "Position     object\n",
       "Age         float64\n",
       "Height       object\n",
       "Weight      float64\n",
       "College      object\n",
       "Salary      float64\n",
       "dtype: object"
      ]
     },
     "execution_count": 98,
     "metadata": {},
     "output_type": "execute_result"
    }
   ],
   "source": [
    "nba.dtypes # hem sütun isimleri hem o sütunda tutulan bilgierin hangi tipte olduğu bilgisine ulaşırız."
   ]
  },
  {
   "cell_type": "code",
   "execution_count": 99,
   "id": "79f5dabb",
   "metadata": {},
   "outputs": [
    {
     "data": {
      "text/plain": [
       "Index(['Name', 'Team', 'Number', 'Position', 'Age', 'Height', 'Weight',\n",
       "       'College', 'Salary'],\n",
       "      dtype='object')"
      ]
     },
     "execution_count": 99,
     "metadata": {},
     "output_type": "execute_result"
    }
   ],
   "source": [
    "nba.columns # column isimlerini tek tek verir "
   ]
  },
  {
   "cell_type": "code",
   "execution_count": 100,
   "id": "80b941a4",
   "metadata": {},
   "outputs": [
    {
     "name": "stdout",
     "output_type": "stream",
     "text": [
      "<class 'pandas.core.frame.DataFrame'>\n",
      "RangeIndex: 458 entries, 0 to 457\n",
      "Data columns (total 9 columns):\n",
      " #   Column    Non-Null Count  Dtype  \n",
      "---  ------    --------------  -----  \n",
      " 0   Name      457 non-null    object \n",
      " 1   Team      457 non-null    object \n",
      " 2   Number    457 non-null    float64\n",
      " 3   Position  457 non-null    object \n",
      " 4   Age       457 non-null    float64\n",
      " 5   Height    457 non-null    object \n",
      " 6   Weight    457 non-null    float64\n",
      " 7   College   373 non-null    object \n",
      " 8   Salary    446 non-null    float64\n",
      "dtypes: float64(4), object(5)\n",
      "memory usage: 32.3+ KB\n"
     ]
    }
   ],
   "source": [
    "nba.info() # veri hakkında genel bilgi verir.\n",
    "# college alanında eksik bilgi var onu gösterir. salary alanında da 11 tane alan boştur\n",
    "# bellekte ne kadar yer kapladığı hakkında bilgi verir , veri tiplerini gösterir"
   ]
  },
  {
   "cell_type": "code",
   "execution_count": 9,
   "id": "43fb7fa3",
   "metadata": {},
   "outputs": [
    {
     "data": {
      "text/html": [
       "<div>\n",
       "<style scoped>\n",
       "    .dataframe tbody tr th:only-of-type {\n",
       "        vertical-align: middle;\n",
       "    }\n",
       "\n",
       "    .dataframe tbody tr th {\n",
       "        vertical-align: top;\n",
       "    }\n",
       "\n",
       "    .dataframe thead th {\n",
       "        text-align: right;\n",
       "    }\n",
       "</style>\n",
       "<table border=\"1\" class=\"dataframe\">\n",
       "  <thead>\n",
       "    <tr style=\"text-align: right;\">\n",
       "      <th></th>\n",
       "      <th>New York</th>\n",
       "      <th>Los Angeles</th>\n",
       "      <th>Miami</th>\n",
       "    </tr>\n",
       "    <tr>\n",
       "      <th>Date</th>\n",
       "      <th></th>\n",
       "      <th></th>\n",
       "      <th></th>\n",
       "    </tr>\n",
       "  </thead>\n",
       "  <tbody>\n",
       "    <tr>\n",
       "      <th>1/1/16</th>\n",
       "      <td>985</td>\n",
       "      <td>122</td>\n",
       "      <td>499</td>\n",
       "    </tr>\n",
       "    <tr>\n",
       "      <th>1/2/16</th>\n",
       "      <td>738</td>\n",
       "      <td>788</td>\n",
       "      <td>534</td>\n",
       "    </tr>\n",
       "    <tr>\n",
       "      <th>1/3/16</th>\n",
       "      <td>14</td>\n",
       "      <td>20</td>\n",
       "      <td>933</td>\n",
       "    </tr>\n",
       "    <tr>\n",
       "      <th>1/4/16</th>\n",
       "      <td>730</td>\n",
       "      <td>904</td>\n",
       "      <td>885</td>\n",
       "    </tr>\n",
       "    <tr>\n",
       "      <th>1/5/16</th>\n",
       "      <td>114</td>\n",
       "      <td>71</td>\n",
       "      <td>253</td>\n",
       "    </tr>\n",
       "    <tr>\n",
       "      <th>1/6/16</th>\n",
       "      <td>936</td>\n",
       "      <td>502</td>\n",
       "      <td>497</td>\n",
       "    </tr>\n",
       "    <tr>\n",
       "      <th>1/7/16</th>\n",
       "      <td>123</td>\n",
       "      <td>996</td>\n",
       "      <td>115</td>\n",
       "    </tr>\n",
       "    <tr>\n",
       "      <th>1/8/16</th>\n",
       "      <td>935</td>\n",
       "      <td>492</td>\n",
       "      <td>886</td>\n",
       "    </tr>\n",
       "    <tr>\n",
       "      <th>1/9/16</th>\n",
       "      <td>846</td>\n",
       "      <td>954</td>\n",
       "      <td>823</td>\n",
       "    </tr>\n",
       "    <tr>\n",
       "      <th>1/10/16</th>\n",
       "      <td>54</td>\n",
       "      <td>285</td>\n",
       "      <td>216</td>\n",
       "    </tr>\n",
       "  </tbody>\n",
       "</table>\n",
       "</div>"
      ],
      "text/plain": [
       "         New York  Los Angeles  Miami\n",
       "Date                                 \n",
       "1/1/16        985          122    499\n",
       "1/2/16        738          788    534\n",
       "1/3/16         14           20    933\n",
       "1/4/16        730          904    885\n",
       "1/5/16        114           71    253\n",
       "1/6/16        936          502    497\n",
       "1/7/16        123          996    115\n",
       "1/8/16        935          492    886\n",
       "1/9/16        846          954    823\n",
       "1/10/16        54          285    216"
      ]
     },
     "execution_count": 9,
     "metadata": {},
     "output_type": "execute_result"
    }
   ],
   "source": [
    "revenue = pd.read_csv(\"./resources/revenue.csv\" , index_col=\"Date\")\n",
    "revenue"
   ]
  },
  {
   "cell_type": "raw",
   "id": "2893b86b",
   "metadata": {},
   "source": []
  },
  {
   "cell_type": "code",
   "execution_count": 102,
   "id": "a60ae8eb",
   "metadata": {},
   "outputs": [
    {
     "data": {
      "text/plain": [
       "New York       5475\n",
       "Los Angeles    5134\n",
       "Miami          5641\n",
       "dtype: int64"
      ]
     },
     "execution_count": 102,
     "metadata": {},
     "output_type": "execute_result"
    }
   ],
   "source": [
    "revenue.sum() # sütun bazında toplam alır."
   ]
  },
  {
   "cell_type": "code",
   "execution_count": 103,
   "id": "4fc37809",
   "metadata": {},
   "outputs": [
    {
     "data": {
      "text/plain": [
       "New York       5475\n",
       "Los Angeles    5134\n",
       "Miami          5641\n",
       "dtype: int64"
      ]
     },
     "execution_count": 103,
     "metadata": {},
     "output_type": "execute_result"
    }
   ],
   "source": [
    "revenue.sum(axis=0) # yukardaki aynı sonucu alır"
   ]
  },
  {
   "cell_type": "code",
   "execution_count": 104,
   "id": "18bc54e9",
   "metadata": {},
   "outputs": [
    {
     "data": {
      "text/plain": [
       "New York       5475\n",
       "Los Angeles    5134\n",
       "Miami          5641\n",
       "dtype: int64"
      ]
     },
     "execution_count": 104,
     "metadata": {},
     "output_type": "execute_result"
    }
   ],
   "source": [
    "revenue.sum(axis=\"index\") # aynı işe yarar"
   ]
  },
  {
   "cell_type": "code",
   "execution_count": 105,
   "id": "be5f1612",
   "metadata": {},
   "outputs": [
    {
     "data": {
      "text/plain": [
       "Date\n",
       "1/1/16     1606\n",
       "1/2/16     2060\n",
       "1/3/16      967\n",
       "1/4/16     2519\n",
       "1/5/16      438\n",
       "1/6/16     1935\n",
       "1/7/16     1234\n",
       "1/8/16     2313\n",
       "1/9/16     2623\n",
       "1/10/16     555\n",
       "dtype: int64"
      ]
     },
     "execution_count": 105,
     "metadata": {},
     "output_type": "execute_result"
    }
   ],
   "source": [
    "revenue.sum(axis=1) # satır bazında toplamı verir"
   ]
  },
  {
   "cell_type": "code",
   "execution_count": 106,
   "id": "b3e94bf6",
   "metadata": {},
   "outputs": [
    {
     "data": {
      "text/plain": [
       "Date\n",
       "1/1/16     1606\n",
       "1/2/16     2060\n",
       "1/3/16      967\n",
       "1/4/16     2519\n",
       "1/5/16      438\n",
       "1/6/16     1935\n",
       "1/7/16     1234\n",
       "1/8/16     2313\n",
       "1/9/16     2623\n",
       "1/10/16     555\n",
       "dtype: int64"
      ]
     },
     "execution_count": 106,
     "metadata": {},
     "output_type": "execute_result"
    }
   ],
   "source": [
    "revenue.sum(axis=\"columns\") # yukardakinin aynısı"
   ]
  },
  {
   "cell_type": "code",
   "execution_count": 107,
   "id": "702ca6bd",
   "metadata": {},
   "outputs": [
    {
     "data": {
      "text/plain": [
       "0      Avery Bradley\n",
       "1        Jae Crowder\n",
       "2       John Holland\n",
       "3        R.J. Hunter\n",
       "4      Jonas Jerebko\n",
       "           ...      \n",
       "453     Shelvin Mack\n",
       "454        Raul Neto\n",
       "455     Tibor Pleiss\n",
       "456      Jeff Withey\n",
       "457              NaN\n",
       "Name: Name, Length: 458, dtype: object"
      ]
     },
     "execution_count": 107,
     "metadata": {},
     "output_type": "execute_result"
    }
   ],
   "source": [
    "nba.Name # name alanındaki bilgileri seri olarak döndürdü"
   ]
  },
  {
   "cell_type": "code",
   "execution_count": 108,
   "id": "7cf6b896",
   "metadata": {},
   "outputs": [
    {
     "data": {
      "text/plain": [
       "0      Avery Bradley\n",
       "1        Jae Crowder\n",
       "2       John Holland\n",
       "3        R.J. Hunter\n",
       "4      Jonas Jerebko\n",
       "           ...      \n",
       "453     Shelvin Mack\n",
       "454        Raul Neto\n",
       "455     Tibor Pleiss\n",
       "456      Jeff Withey\n",
       "457              NaN\n",
       "Name: Name, Length: 458, dtype: object"
      ]
     },
     "execution_count": 108,
     "metadata": {},
     "output_type": "execute_result"
    }
   ],
   "source": [
    "nba[\"Name\"] # yukardaki işlemin aynısını yapar"
   ]
  },
  {
   "cell_type": "code",
   "execution_count": 109,
   "id": "6f821247",
   "metadata": {},
   "outputs": [
    {
     "data": {
      "text/html": [
       "<div>\n",
       "<style scoped>\n",
       "    .dataframe tbody tr th:only-of-type {\n",
       "        vertical-align: middle;\n",
       "    }\n",
       "\n",
       "    .dataframe tbody tr th {\n",
       "        vertical-align: top;\n",
       "    }\n",
       "\n",
       "    .dataframe thead th {\n",
       "        text-align: right;\n",
       "    }\n",
       "</style>\n",
       "<table border=\"1\" class=\"dataframe\">\n",
       "  <thead>\n",
       "    <tr style=\"text-align: right;\">\n",
       "      <th></th>\n",
       "      <th>Name</th>\n",
       "      <th>Number</th>\n",
       "      <th>Salary</th>\n",
       "    </tr>\n",
       "  </thead>\n",
       "  <tbody>\n",
       "    <tr>\n",
       "      <th>0</th>\n",
       "      <td>Avery Bradley</td>\n",
       "      <td>0.0</td>\n",
       "      <td>7730337.0</td>\n",
       "    </tr>\n",
       "    <tr>\n",
       "      <th>1</th>\n",
       "      <td>Jae Crowder</td>\n",
       "      <td>99.0</td>\n",
       "      <td>6796117.0</td>\n",
       "    </tr>\n",
       "    <tr>\n",
       "      <th>2</th>\n",
       "      <td>John Holland</td>\n",
       "      <td>30.0</td>\n",
       "      <td>NaN</td>\n",
       "    </tr>\n",
       "    <tr>\n",
       "      <th>3</th>\n",
       "      <td>R.J. Hunter</td>\n",
       "      <td>28.0</td>\n",
       "      <td>1148640.0</td>\n",
       "    </tr>\n",
       "    <tr>\n",
       "      <th>4</th>\n",
       "      <td>Jonas Jerebko</td>\n",
       "      <td>8.0</td>\n",
       "      <td>5000000.0</td>\n",
       "    </tr>\n",
       "    <tr>\n",
       "      <th>...</th>\n",
       "      <td>...</td>\n",
       "      <td>...</td>\n",
       "      <td>...</td>\n",
       "    </tr>\n",
       "    <tr>\n",
       "      <th>453</th>\n",
       "      <td>Shelvin Mack</td>\n",
       "      <td>8.0</td>\n",
       "      <td>2433333.0</td>\n",
       "    </tr>\n",
       "    <tr>\n",
       "      <th>454</th>\n",
       "      <td>Raul Neto</td>\n",
       "      <td>25.0</td>\n",
       "      <td>900000.0</td>\n",
       "    </tr>\n",
       "    <tr>\n",
       "      <th>455</th>\n",
       "      <td>Tibor Pleiss</td>\n",
       "      <td>21.0</td>\n",
       "      <td>2900000.0</td>\n",
       "    </tr>\n",
       "    <tr>\n",
       "      <th>456</th>\n",
       "      <td>Jeff Withey</td>\n",
       "      <td>24.0</td>\n",
       "      <td>947276.0</td>\n",
       "    </tr>\n",
       "    <tr>\n",
       "      <th>457</th>\n",
       "      <td>NaN</td>\n",
       "      <td>NaN</td>\n",
       "      <td>NaN</td>\n",
       "    </tr>\n",
       "  </tbody>\n",
       "</table>\n",
       "<p>458 rows × 3 columns</p>\n",
       "</div>"
      ],
      "text/plain": [
       "              Name  Number     Salary\n",
       "0    Avery Bradley     0.0  7730337.0\n",
       "1      Jae Crowder    99.0  6796117.0\n",
       "2     John Holland    30.0        NaN\n",
       "3      R.J. Hunter    28.0  1148640.0\n",
       "4    Jonas Jerebko     8.0  5000000.0\n",
       "..             ...     ...        ...\n",
       "453   Shelvin Mack     8.0  2433333.0\n",
       "454      Raul Neto    25.0   900000.0\n",
       "455   Tibor Pleiss    21.0  2900000.0\n",
       "456    Jeff Withey    24.0   947276.0\n",
       "457            NaN     NaN        NaN\n",
       "\n",
       "[458 rows x 3 columns]"
      ]
     },
     "execution_count": 109,
     "metadata": {},
     "output_type": "execute_result"
    }
   ],
   "source": [
    "nba[[\"Name\", \"Number\" , \"Salary\"]] # Bu dataframe üzerindeki columns lar seçilerek getirilir."
   ]
  },
  {
   "cell_type": "code",
   "execution_count": 58,
   "id": "22c5c6c7",
   "metadata": {},
   "outputs": [
    {
     "data": {
      "text/html": [
       "<div>\n",
       "<style scoped>\n",
       "    .dataframe tbody tr th:only-of-type {\n",
       "        vertical-align: middle;\n",
       "    }\n",
       "\n",
       "    .dataframe tbody tr th {\n",
       "        vertical-align: top;\n",
       "    }\n",
       "\n",
       "    .dataframe thead th {\n",
       "        text-align: right;\n",
       "    }\n",
       "</style>\n",
       "<table border=\"1\" class=\"dataframe\">\n",
       "  <thead>\n",
       "    <tr style=\"text-align: right;\">\n",
       "      <th></th>\n",
       "      <th>Name</th>\n",
       "      <th>Team</th>\n",
       "      <th>Number</th>\n",
       "      <th>Position</th>\n",
       "      <th>Age</th>\n",
       "      <th>Height</th>\n",
       "      <th>Weight</th>\n",
       "      <th>College</th>\n",
       "      <th>Salary</th>\n",
       "    </tr>\n",
       "  </thead>\n",
       "  <tbody>\n",
       "    <tr>\n",
       "      <th>0</th>\n",
       "      <td>Avery Bradley</td>\n",
       "      <td>Boston Celtics</td>\n",
       "      <td>0.0</td>\n",
       "      <td>PG</td>\n",
       "      <td>25.0</td>\n",
       "      <td>6-2</td>\n",
       "      <td>180.0</td>\n",
       "      <td>SDÜ</td>\n",
       "      <td>7730337.0</td>\n",
       "    </tr>\n",
       "    <tr>\n",
       "      <th>1</th>\n",
       "      <td>Jae Crowder</td>\n",
       "      <td>Boston Celtics</td>\n",
       "      <td>99.0</td>\n",
       "      <td>SF</td>\n",
       "      <td>25.0</td>\n",
       "      <td>6-6</td>\n",
       "      <td>235.0</td>\n",
       "      <td>SDÜ</td>\n",
       "      <td>6796117.0</td>\n",
       "    </tr>\n",
       "    <tr>\n",
       "      <th>2</th>\n",
       "      <td>John Holland</td>\n",
       "      <td>Boston Celtics</td>\n",
       "      <td>30.0</td>\n",
       "      <td>SG</td>\n",
       "      <td>27.0</td>\n",
       "      <td>6-5</td>\n",
       "      <td>205.0</td>\n",
       "      <td>SDÜ</td>\n",
       "      <td>NaN</td>\n",
       "    </tr>\n",
       "    <tr>\n",
       "      <th>3</th>\n",
       "      <td>R.J. Hunter</td>\n",
       "      <td>Boston Celtics</td>\n",
       "      <td>28.0</td>\n",
       "      <td>SG</td>\n",
       "      <td>22.0</td>\n",
       "      <td>6-5</td>\n",
       "      <td>185.0</td>\n",
       "      <td>SDÜ</td>\n",
       "      <td>1148640.0</td>\n",
       "    </tr>\n",
       "    <tr>\n",
       "      <th>4</th>\n",
       "      <td>Jonas Jerebko</td>\n",
       "      <td>Boston Celtics</td>\n",
       "      <td>8.0</td>\n",
       "      <td>PF</td>\n",
       "      <td>29.0</td>\n",
       "      <td>6-10</td>\n",
       "      <td>231.0</td>\n",
       "      <td>SDÜ</td>\n",
       "      <td>5000000.0</td>\n",
       "    </tr>\n",
       "    <tr>\n",
       "      <th>...</th>\n",
       "      <td>...</td>\n",
       "      <td>...</td>\n",
       "      <td>...</td>\n",
       "      <td>...</td>\n",
       "      <td>...</td>\n",
       "      <td>...</td>\n",
       "      <td>...</td>\n",
       "      <td>...</td>\n",
       "      <td>...</td>\n",
       "    </tr>\n",
       "    <tr>\n",
       "      <th>453</th>\n",
       "      <td>Shelvin Mack</td>\n",
       "      <td>Utah Jazz</td>\n",
       "      <td>8.0</td>\n",
       "      <td>PG</td>\n",
       "      <td>26.0</td>\n",
       "      <td>6-3</td>\n",
       "      <td>203.0</td>\n",
       "      <td>SDÜ</td>\n",
       "      <td>2433333.0</td>\n",
       "    </tr>\n",
       "    <tr>\n",
       "      <th>454</th>\n",
       "      <td>Raul Neto</td>\n",
       "      <td>Utah Jazz</td>\n",
       "      <td>25.0</td>\n",
       "      <td>PG</td>\n",
       "      <td>24.0</td>\n",
       "      <td>6-1</td>\n",
       "      <td>179.0</td>\n",
       "      <td>SDÜ</td>\n",
       "      <td>900000.0</td>\n",
       "    </tr>\n",
       "    <tr>\n",
       "      <th>455</th>\n",
       "      <td>Tibor Pleiss</td>\n",
       "      <td>Utah Jazz</td>\n",
       "      <td>21.0</td>\n",
       "      <td>C</td>\n",
       "      <td>26.0</td>\n",
       "      <td>7-3</td>\n",
       "      <td>256.0</td>\n",
       "      <td>SDÜ</td>\n",
       "      <td>2900000.0</td>\n",
       "    </tr>\n",
       "    <tr>\n",
       "      <th>456</th>\n",
       "      <td>Jeff Withey</td>\n",
       "      <td>Utah Jazz</td>\n",
       "      <td>24.0</td>\n",
       "      <td>C</td>\n",
       "      <td>26.0</td>\n",
       "      <td>7-0</td>\n",
       "      <td>231.0</td>\n",
       "      <td>SDÜ</td>\n",
       "      <td>947276.0</td>\n",
       "    </tr>\n",
       "    <tr>\n",
       "      <th>457</th>\n",
       "      <td>NaN</td>\n",
       "      <td>NaN</td>\n",
       "      <td>NaN</td>\n",
       "      <td>NaN</td>\n",
       "      <td>NaN</td>\n",
       "      <td>NaN</td>\n",
       "      <td>NaN</td>\n",
       "      <td>SDÜ</td>\n",
       "      <td>NaN</td>\n",
       "    </tr>\n",
       "  </tbody>\n",
       "</table>\n",
       "<p>458 rows × 9 columns</p>\n",
       "</div>"
      ],
      "text/plain": [
       "              Name            Team  Number Position   Age Height  Weight  \\\n",
       "0    Avery Bradley  Boston Celtics     0.0       PG  25.0    6-2   180.0   \n",
       "1      Jae Crowder  Boston Celtics    99.0       SF  25.0    6-6   235.0   \n",
       "2     John Holland  Boston Celtics    30.0       SG  27.0    6-5   205.0   \n",
       "3      R.J. Hunter  Boston Celtics    28.0       SG  22.0    6-5   185.0   \n",
       "4    Jonas Jerebko  Boston Celtics     8.0       PF  29.0   6-10   231.0   \n",
       "..             ...             ...     ...      ...   ...    ...     ...   \n",
       "453   Shelvin Mack       Utah Jazz     8.0       PG  26.0    6-3   203.0   \n",
       "454      Raul Neto       Utah Jazz    25.0       PG  24.0    6-1   179.0   \n",
       "455   Tibor Pleiss       Utah Jazz    21.0        C  26.0    7-3   256.0   \n",
       "456    Jeff Withey       Utah Jazz    24.0        C  26.0    7-0   231.0   \n",
       "457            NaN             NaN     NaN      NaN   NaN    NaN     NaN   \n",
       "\n",
       "    College     Salary  \n",
       "0       SDÜ  7730337.0  \n",
       "1       SDÜ  6796117.0  \n",
       "2       SDÜ        NaN  \n",
       "3       SDÜ  1148640.0  \n",
       "4       SDÜ  5000000.0  \n",
       "..      ...        ...  \n",
       "453     SDÜ  2433333.0  \n",
       "454     SDÜ   900000.0  \n",
       "455     SDÜ  2900000.0  \n",
       "456     SDÜ   947276.0  \n",
       "457     SDÜ        NaN  \n",
       "\n",
       "[458 rows x 9 columns]"
      ]
     },
     "execution_count": 58,
     "metadata": {},
     "output_type": "execute_result"
    }
   ],
   "source": [
    "nba[\"College\"] = \"SDÜ\"\n",
    "nba  # Bütün college alanındaki değerleri SDÜ yaptı"
   ]
  },
  {
   "cell_type": "code",
   "execution_count": 11,
   "id": "5099833a",
   "metadata": {},
   "outputs": [
    {
     "ename": "ValueError",
     "evalue": "No engine for filetype: 'csv'",
     "output_type": "error",
     "traceback": [
      "\u001b[1;31m---------------------------------------------------------------------------\u001b[0m",
      "\u001b[1;31mOptionError\u001b[0m                               Traceback (most recent call last)",
      "File \u001b[1;32m~\\anaconda3\\Lib\\site-packages\\pandas\\io\\excel\\_base.py:1111\u001b[0m, in \u001b[0;36mExcelWriter.__new__\u001b[1;34m(cls, path, engine, date_format, datetime_format, mode, storage_options, if_sheet_exists, engine_kwargs)\u001b[0m\n\u001b[0;32m   1110\u001b[0m \u001b[38;5;28;01mtry\u001b[39;00m:\n\u001b[1;32m-> 1111\u001b[0m     engine \u001b[38;5;241m=\u001b[39m config\u001b[38;5;241m.\u001b[39mget_option(\u001b[38;5;124mf\u001b[39m\u001b[38;5;124m\"\u001b[39m\u001b[38;5;124mio.excel.\u001b[39m\u001b[38;5;132;01m{\u001b[39;00mext\u001b[38;5;132;01m}\u001b[39;00m\u001b[38;5;124m.writer\u001b[39m\u001b[38;5;124m\"\u001b[39m, silent\u001b[38;5;241m=\u001b[39m\u001b[38;5;28;01mTrue\u001b[39;00m)\n\u001b[0;32m   1112\u001b[0m     \u001b[38;5;28;01mif\u001b[39;00m engine \u001b[38;5;241m==\u001b[39m \u001b[38;5;124m\"\u001b[39m\u001b[38;5;124mauto\u001b[39m\u001b[38;5;124m\"\u001b[39m:\n",
      "File \u001b[1;32m~\\anaconda3\\Lib\\site-packages\\pandas\\_config\\config.py:261\u001b[0m, in \u001b[0;36mCallableDynamicDoc.__call__\u001b[1;34m(self, *args, **kwds)\u001b[0m\n\u001b[0;32m    260\u001b[0m \u001b[38;5;28;01mdef\u001b[39;00m \u001b[38;5;21m__call__\u001b[39m(\u001b[38;5;28mself\u001b[39m, \u001b[38;5;241m*\u001b[39margs, \u001b[38;5;241m*\u001b[39m\u001b[38;5;241m*\u001b[39mkwds) \u001b[38;5;241m-\u001b[39m\u001b[38;5;241m>\u001b[39m T:\n\u001b[1;32m--> 261\u001b[0m     \u001b[38;5;28;01mreturn\u001b[39;00m \u001b[38;5;28mself\u001b[39m\u001b[38;5;241m.\u001b[39m\u001b[38;5;18m__func__\u001b[39m(\u001b[38;5;241m*\u001b[39margs, \u001b[38;5;241m*\u001b[39m\u001b[38;5;241m*\u001b[39mkwds)\n",
      "File \u001b[1;32m~\\anaconda3\\Lib\\site-packages\\pandas\\_config\\config.py:135\u001b[0m, in \u001b[0;36m_get_option\u001b[1;34m(pat, silent)\u001b[0m\n\u001b[0;32m    134\u001b[0m \u001b[38;5;28;01mdef\u001b[39;00m \u001b[38;5;21m_get_option\u001b[39m(pat: \u001b[38;5;28mstr\u001b[39m, silent: \u001b[38;5;28mbool\u001b[39m \u001b[38;5;241m=\u001b[39m \u001b[38;5;28;01mFalse\u001b[39;00m) \u001b[38;5;241m-\u001b[39m\u001b[38;5;241m>\u001b[39m Any:\n\u001b[1;32m--> 135\u001b[0m     key \u001b[38;5;241m=\u001b[39m _get_single_key(pat, silent)\n\u001b[0;32m    137\u001b[0m     \u001b[38;5;66;03m# walk the nested dict\u001b[39;00m\n",
      "File \u001b[1;32m~\\anaconda3\\Lib\\site-packages\\pandas\\_config\\config.py:121\u001b[0m, in \u001b[0;36m_get_single_key\u001b[1;34m(pat, silent)\u001b[0m\n\u001b[0;32m    120\u001b[0m         _warn_if_deprecated(pat)\n\u001b[1;32m--> 121\u001b[0m     \u001b[38;5;28;01mraise\u001b[39;00m OptionError(\u001b[38;5;124mf\u001b[39m\u001b[38;5;124m\"\u001b[39m\u001b[38;5;124mNo such keys(s): \u001b[39m\u001b[38;5;132;01m{\u001b[39;00m\u001b[38;5;28mrepr\u001b[39m(pat)\u001b[38;5;132;01m}\u001b[39;00m\u001b[38;5;124m\"\u001b[39m)\n\u001b[0;32m    122\u001b[0m \u001b[38;5;28;01mif\u001b[39;00m \u001b[38;5;28mlen\u001b[39m(keys) \u001b[38;5;241m>\u001b[39m \u001b[38;5;241m1\u001b[39m:\n",
      "\u001b[1;31mOptionError\u001b[0m: No such keys(s): 'io.excel.csv.writer'",
      "\nThe above exception was the direct cause of the following exception:\n",
      "\u001b[1;31mValueError\u001b[0m                                Traceback (most recent call last)",
      "Cell \u001b[1;32mIn[11], line 1\u001b[0m\n\u001b[1;32m----> 1\u001b[0m nba\u001b[38;5;241m.\u001b[39mto_excel(\u001b[38;5;124m\"\u001b[39m\u001b[38;5;124m./resources/nba.csv\u001b[39m\u001b[38;5;124m\"\u001b[39m)\n",
      "File \u001b[1;32m~\\anaconda3\\Lib\\site-packages\\pandas\\core\\generic.py:2252\u001b[0m, in \u001b[0;36mNDFrame.to_excel\u001b[1;34m(self, excel_writer, sheet_name, na_rep, float_format, columns, header, index, index_label, startrow, startcol, engine, merge_cells, inf_rep, freeze_panes, storage_options)\u001b[0m\n\u001b[0;32m   2239\u001b[0m \u001b[38;5;28;01mfrom\u001b[39;00m \u001b[38;5;21;01mpandas\u001b[39;00m\u001b[38;5;21;01m.\u001b[39;00m\u001b[38;5;21;01mio\u001b[39;00m\u001b[38;5;21;01m.\u001b[39;00m\u001b[38;5;21;01mformats\u001b[39;00m\u001b[38;5;21;01m.\u001b[39;00m\u001b[38;5;21;01mexcel\u001b[39;00m \u001b[38;5;28;01mimport\u001b[39;00m ExcelFormatter\n\u001b[0;32m   2241\u001b[0m formatter \u001b[38;5;241m=\u001b[39m ExcelFormatter(\n\u001b[0;32m   2242\u001b[0m     df,\n\u001b[0;32m   2243\u001b[0m     na_rep\u001b[38;5;241m=\u001b[39mna_rep,\n\u001b[1;32m   (...)\u001b[0m\n\u001b[0;32m   2250\u001b[0m     inf_rep\u001b[38;5;241m=\u001b[39minf_rep,\n\u001b[0;32m   2251\u001b[0m )\n\u001b[1;32m-> 2252\u001b[0m formatter\u001b[38;5;241m.\u001b[39mwrite(\n\u001b[0;32m   2253\u001b[0m     excel_writer,\n\u001b[0;32m   2254\u001b[0m     sheet_name\u001b[38;5;241m=\u001b[39msheet_name,\n\u001b[0;32m   2255\u001b[0m     startrow\u001b[38;5;241m=\u001b[39mstartrow,\n\u001b[0;32m   2256\u001b[0m     startcol\u001b[38;5;241m=\u001b[39mstartcol,\n\u001b[0;32m   2257\u001b[0m     freeze_panes\u001b[38;5;241m=\u001b[39mfreeze_panes,\n\u001b[0;32m   2258\u001b[0m     engine\u001b[38;5;241m=\u001b[39mengine,\n\u001b[0;32m   2259\u001b[0m     storage_options\u001b[38;5;241m=\u001b[39mstorage_options,\n\u001b[0;32m   2260\u001b[0m )\n",
      "File \u001b[1;32m~\\anaconda3\\Lib\\site-packages\\pandas\\io\\formats\\excel.py:934\u001b[0m, in \u001b[0;36mExcelFormatter.write\u001b[1;34m(self, writer, sheet_name, startrow, startcol, freeze_panes, engine, storage_options)\u001b[0m\n\u001b[0;32m    930\u001b[0m     need_save \u001b[38;5;241m=\u001b[39m \u001b[38;5;28;01mFalse\u001b[39;00m\n\u001b[0;32m    931\u001b[0m \u001b[38;5;28;01melse\u001b[39;00m:\n\u001b[0;32m    932\u001b[0m     \u001b[38;5;66;03m# error: Cannot instantiate abstract class 'ExcelWriter' with abstract\u001b[39;00m\n\u001b[0;32m    933\u001b[0m     \u001b[38;5;66;03m# attributes 'engine', 'save', 'supported_extensions' and 'write_cells'\u001b[39;00m\n\u001b[1;32m--> 934\u001b[0m     writer \u001b[38;5;241m=\u001b[39m ExcelWriter(  \u001b[38;5;66;03m# type: ignore[abstract]\u001b[39;00m\n\u001b[0;32m    935\u001b[0m         writer, engine\u001b[38;5;241m=\u001b[39mengine, storage_options\u001b[38;5;241m=\u001b[39mstorage_options\n\u001b[0;32m    936\u001b[0m     )\n\u001b[0;32m    937\u001b[0m     need_save \u001b[38;5;241m=\u001b[39m \u001b[38;5;28;01mTrue\u001b[39;00m\n\u001b[0;32m    939\u001b[0m \u001b[38;5;28;01mtry\u001b[39;00m:\n",
      "File \u001b[1;32m~\\anaconda3\\Lib\\site-packages\\pandas\\io\\excel\\_base.py:1115\u001b[0m, in \u001b[0;36mExcelWriter.__new__\u001b[1;34m(cls, path, engine, date_format, datetime_format, mode, storage_options, if_sheet_exists, engine_kwargs)\u001b[0m\n\u001b[0;32m   1113\u001b[0m             engine \u001b[38;5;241m=\u001b[39m get_default_engine(ext, mode\u001b[38;5;241m=\u001b[39m\u001b[38;5;124m\"\u001b[39m\u001b[38;5;124mwriter\u001b[39m\u001b[38;5;124m\"\u001b[39m)\n\u001b[0;32m   1114\u001b[0m     \u001b[38;5;28;01mexcept\u001b[39;00m \u001b[38;5;167;01mKeyError\u001b[39;00m \u001b[38;5;28;01mas\u001b[39;00m err:\n\u001b[1;32m-> 1115\u001b[0m         \u001b[38;5;28;01mraise\u001b[39;00m \u001b[38;5;167;01mValueError\u001b[39;00m(\u001b[38;5;124mf\u001b[39m\u001b[38;5;124m\"\u001b[39m\u001b[38;5;124mNo engine for filetype: \u001b[39m\u001b[38;5;124m'\u001b[39m\u001b[38;5;132;01m{\u001b[39;00mext\u001b[38;5;132;01m}\u001b[39;00m\u001b[38;5;124m'\u001b[39m\u001b[38;5;124m\"\u001b[39m) \u001b[38;5;28;01mfrom\u001b[39;00m \u001b[38;5;21;01merr\u001b[39;00m\n\u001b[0;32m   1117\u001b[0m \u001b[38;5;66;03m# for mypy\u001b[39;00m\n\u001b[0;32m   1118\u001b[0m \u001b[38;5;28;01massert\u001b[39;00m engine \u001b[38;5;129;01mis\u001b[39;00m \u001b[38;5;129;01mnot\u001b[39;00m \u001b[38;5;28;01mNone\u001b[39;00m\n",
      "\u001b[1;31mValueError\u001b[0m: No engine for filetype: 'csv'"
     ]
    }
   ],
   "source": [
    "nba.to_excel(\"./resources/nba.csv\") # excel dosyası şeklinde görüntüler"
   ]
  },
  {
   "cell_type": "code",
   "execution_count": null,
   "id": "7fac2d69",
   "metadata": {},
   "outputs": [],
   "source": []
  },
  {
   "cell_type": "code",
   "execution_count": null,
   "id": "50bb72e8",
   "metadata": {},
   "outputs": [],
   "source": []
  },
  {
   "cell_type": "code",
   "execution_count": null,
   "id": "7d50657f",
   "metadata": {},
   "outputs": [],
   "source": []
  },
  {
   "cell_type": "code",
   "execution_count": null,
   "id": "f30fa0de",
   "metadata": {},
   "outputs": [],
   "source": []
  },
  {
   "cell_type": "code",
   "execution_count": null,
   "id": "511bfc95",
   "metadata": {},
   "outputs": [],
   "source": []
  },
  {
   "cell_type": "code",
   "execution_count": null,
   "id": "09692b99",
   "metadata": {},
   "outputs": [],
   "source": []
  },
  {
   "cell_type": "code",
   "execution_count": null,
   "id": "ef6d116f",
   "metadata": {},
   "outputs": [],
   "source": []
  },
  {
   "cell_type": "code",
   "execution_count": null,
   "id": "7aa33119",
   "metadata": {},
   "outputs": [],
   "source": []
  },
  {
   "cell_type": "code",
   "execution_count": null,
   "id": "64349a50",
   "metadata": {},
   "outputs": [],
   "source": []
  },
  {
   "cell_type": "code",
   "execution_count": null,
   "id": "6e9aca4b",
   "metadata": {},
   "outputs": [],
   "source": []
  },
  {
   "cell_type": "code",
   "execution_count": null,
   "id": "76e0f5f5",
   "metadata": {},
   "outputs": [],
   "source": []
  },
  {
   "cell_type": "code",
   "execution_count": null,
   "id": "0eec133c",
   "metadata": {},
   "outputs": [],
   "source": []
  },
  {
   "cell_type": "code",
   "execution_count": null,
   "id": "f5d262f2",
   "metadata": {},
   "outputs": [],
   "source": []
  },
  {
   "cell_type": "code",
   "execution_count": null,
   "id": "acc596b5",
   "metadata": {},
   "outputs": [],
   "source": []
  }
 ],
 "metadata": {
  "kernelspec": {
   "display_name": "Python 3 (ipykernel)",
   "language": "python",
   "name": "python3"
  },
  "language_info": {
   "codemirror_mode": {
    "name": "ipython",
    "version": 3
   },
   "file_extension": ".py",
   "mimetype": "text/x-python",
   "name": "python",
   "nbconvert_exporter": "python",
   "pygments_lexer": "ipython3",
   "version": "3.11.5"
  }
 },
 "nbformat": 4,
 "nbformat_minor": 5
}
