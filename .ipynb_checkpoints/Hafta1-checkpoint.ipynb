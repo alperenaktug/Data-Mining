{
 "cells": [
  {
   "cell_type": "code",
   "execution_count": 1,
   "id": "220cbe05",
   "metadata": {
    "scrolled": false
   },
   "outputs": [
    {
     "name": "stdout",
     "output_type": "stream",
     "text": [
      "HELLO WORLD\n"
     ]
    }
   ],
   "source": [
    "print(\"HELLO WORLD\")"
   ]
  },
  {
   "cell_type": "code",
   "execution_count": 2,
   "id": "1d3c8202",
   "metadata": {
    "scrolled": true
   },
   "outputs": [
    {
     "name": "stdout",
     "output_type": "stream",
     "text": [
      "HELLO WORLD Hello Python\n"
     ]
    }
   ],
   "source": [
    "print(\"HELLO WORLD\" , \"Hello Python\")"
   ]
  },
  {
   "cell_type": "code",
   "execution_count": 3,
   "id": "6e289dac",
   "metadata": {},
   "outputs": [
    {
     "name": "stdout",
     "output_type": "stream",
     "text": [
      "Hello World&Hello Java\n"
     ]
    }
   ],
   "source": [
    "print(\"Hello World\" , \"Hello Java\" , sep=\"&\") # sep printin bir argümanı print tarafından yazılan öğelerin arasına eklenir"
   ]
  },
  {
   "cell_type": "code",
   "execution_count": 4,
   "id": "0639b335",
   "metadata": {},
   "outputs": [
    {
     "name": "stdout",
     "output_type": "stream",
     "text": [
      "Hello World\n",
      "Hello Java\n"
     ]
    }
   ],
   "source": [
    "print(\"Hello World\")\n",
    "print(\"Hello Java\")"
   ]
  },
  {
   "cell_type": "code",
   "execution_count": 5,
   "id": "1a735545",
   "metadata": {},
   "outputs": [
    {
     "name": "stdout",
     "output_type": "stream",
     "text": [
      "Hello World Hello Java\n"
     ]
    }
   ],
   "source": [
    "print(\"Hello World\", end=\" \")  # end tarafından yazdırılan şeylerin sonuna neyin eklenmesi gerektiğini belirtir. burda boşluk \n",
    "print(\"Hello Java\" )           # olduğu için bir alt satıra geçmez     "
   ]
  },
  {
   "cell_type": "code",
   "execution_count": 6,
   "id": "285f2b49",
   "metadata": {},
   "outputs": [
    {
     "name": "stdout",
     "output_type": "stream",
     "text": [
      "tam_sayi değişkeni <class 'int'> türündedir\n",
      "float_sayi değişkeni <class 'float'> türündedir\n",
      "kelime değişkeni <class 'str'> türündedir\n",
      "mantik değişkeni <class 'bool'> türündedir\n",
      "karmasik değişkeni <class 'complex'> türündedir\n"
     ]
    }
   ],
   "source": [
    "tam_sayi = 15\n",
    "float_sayi = 3.14\n",
    "kelime = \"merhaba\"\n",
    "mantik = True\n",
    "karmasik = 3 + 5j\n",
    "\n",
    "print(f\"tam_sayi değişkeni {type(tam_sayi)} türündedir\")\n",
    "print(f\"float_sayi değişkeni {type(float_sayi)} türündedir\")\n",
    "print(f\"kelime değişkeni {type(kelime)} türündedir\")\n",
    "print(f\"mantik değişkeni {type(mantik)} türündedir\")\n",
    "print(f\"karmasik değişkeni {type(karmasik)} türündedir\")"
   ]
  },
  {
   "cell_type": "code",
   "execution_count": 7,
   "id": "a78a6dc8",
   "metadata": {},
   "outputs": [
    {
     "name": "stdout",
     "output_type": "stream",
     "text": [
      "5 + 10 = 15\n"
     ]
    }
   ],
   "source": [
    "sayi1 = 5                        # f \"\" yazılarak string formatında bir çıktı oluşturulur \n",
    "sayi2 = 10\n",
    "\n",
    "print(f\"{sayi1} + {sayi2} = {sayi1 + sayi2}\")"
   ]
  },
  {
   "cell_type": "code",
   "execution_count": 8,
   "id": "8f5b3a27",
   "metadata": {},
   "outputs": [
    {
     "data": {
      "text/plain": [
       "7"
      ]
     },
     "execution_count": 8,
     "metadata": {},
     "output_type": "execute_result"
    }
   ],
   "source": [
    "len (\"Merhaba\") # len fonksiyonunu kullanarak bir string'in uzunluğunu ölçer."
   ]
  },
  {
   "cell_type": "code",
   "execution_count": 9,
   "id": "66451ec2",
   "metadata": {},
   "outputs": [
    {
     "data": {
      "text/plain": [
       "3"
      ]
     },
     "execution_count": 9,
     "metadata": {},
     "output_type": "execute_result"
    }
   ],
   "source": [
    "int(3.14)  # bir ondalıklı sayıyı tam sayıya dönüştürür ."
   ]
  },
  {
   "cell_type": "code",
   "execution_count": 10,
   "id": "debf4537",
   "metadata": {},
   "outputs": [
    {
     "data": {
      "text/plain": [
       "4"
      ]
     },
     "execution_count": 10,
     "metadata": {},
     "output_type": "execute_result"
    }
   ],
   "source": [
    "round(3.54)  # ondalıklı sayıyı en yakın tam sayıya yuvarlar ."
   ]
  },
  {
   "cell_type": "code",
   "execution_count": 11,
   "id": "8906b4e0",
   "metadata": {},
   "outputs": [
    {
     "data": {
      "text/plain": [
       "3"
      ]
     },
     "execution_count": 11,
     "metadata": {},
     "output_type": "execute_result"
    }
   ],
   "source": [
    "round(3.45)"
   ]
  },
  {
   "cell_type": "code",
   "execution_count": 12,
   "id": "ff4fd63a",
   "metadata": {},
   "outputs": [
    {
     "data": {
      "text/plain": [
       "'maşallahmaşallahmaşallahmaşallahmaşallahmaşallahmaşallahmaşallahmaşallahmaşallahmaşallahmaşallah'"
      ]
     },
     "execution_count": 12,
     "metadata": {},
     "output_type": "execute_result"
    }
   ],
   "source": [
    "12 * \"maşallah\"  # maşallah kelimesini 12 kez birleştirerek string şekilde yazdırır."
   ]
  },
  {
   "cell_type": "code",
   "execution_count": 13,
   "id": "942fd25f",
   "metadata": {},
   "outputs": [],
   "source": [
    "import math   # matematiksel işlemlerin kullanmak için yazılan bir modüldür ."
   ]
  },
  {
   "cell_type": "code",
   "execution_count": 14,
   "id": "0c09aa5d",
   "metadata": {},
   "outputs": [
    {
     "data": {
      "text/plain": [
       "120"
      ]
     },
     "execution_count": 14,
     "metadata": {},
     "output_type": "execute_result"
    }
   ],
   "source": [
    "math.factorial(5)  # faktöriyel işlemi yapar ."
   ]
  },
  {
   "cell_type": "code",
   "execution_count": 15,
   "id": "c47f4809",
   "metadata": {},
   "outputs": [
    {
     "data": {
      "text/plain": [
       "0.5000000000000001"
      ]
     },
     "execution_count": 15,
     "metadata": {},
     "output_type": "execute_result"
    }
   ],
   "source": [
    "math.cos(math.radians(60))"
   ]
  },
  {
   "cell_type": "code",
   "execution_count": 16,
   "id": "918e58a5",
   "metadata": {},
   "outputs": [
    {
     "data": {
      "text/plain": [
       "'\\naçıklama \\naçıklama \\naçıklama\\n'"
      ]
     },
     "execution_count": 16,
     "metadata": {},
     "output_type": "execute_result"
    }
   ],
   "source": [
    "# açıklama satırı\n",
    "'''\n",
    "açıklama1\n",
    "açıklama2 \n",
    "açıklama3\n",
    "'''"
   ]
  },
  {
   "cell_type": "code",
   "execution_count": null,
   "id": "8a89afda",
   "metadata": {},
   "outputs": [],
   "source": [
    "#  For Döngüsü işlemleri\n",
    "# for dongu_degiskeni in range(start , stop , artış veya azalış miktarı) : yapılacaklar"
   ]
  },
  {
   "cell_type": "code",
   "execution_count": 17,
   "id": "6a800998",
   "metadata": {},
   "outputs": [
    {
     "name": "stdout",
     "output_type": "stream",
     "text": [
      "10\n",
      "8\n",
      "6\n",
      "4\n",
      "2\n"
     ]
    }
   ],
   "source": [
    "for i in range (10, 1, -2): # range fonksiyonu kullanılarak bir sayı aralığı verilir bailangıç değeri 10 bitiş değeri 1 ve\n",
    "    print(i)                # adım değeri -2 dir ."
   ]
  },
  {
   "cell_type": "code",
   "execution_count": 18,
   "id": "752a62ee",
   "metadata": {},
   "outputs": [
    {
     "name": "stdout",
     "output_type": "stream",
     "text": [
      "0\n",
      "1\n",
      "2\n",
      "3\n",
      "4\n",
      "5\n",
      "6\n",
      "7\n",
      "8\n",
      "9\n"
     ]
    }
   ],
   "source": [
    "i = 0         # başlangıç değeri 0 ve i 10 dan küçük olduğu sürece her seferde i yi 1 arttır .\n",
    "while i<10:\n",
    "    print(i)\n",
    "    i += 1"
   ]
  },
  {
   "cell_type": "code",
   "execution_count": 19,
   "id": "9fb5ec95",
   "metadata": {},
   "outputs": [
    {
     "name": "stdout",
     "output_type": "stream",
     "text": [
      "a büyük\n"
     ]
    }
   ],
   "source": [
    "a = 5\n",
    "b = 4\n",
    "if a > b: \n",
    "    print(\"a büyük\")\n",
    "elif a ==b:\n",
    "    print(\"eşit\")\n",
    "else:\n",
    "    print(\"b büyük\")"
   ]
  },
  {
   "cell_type": "code",
   "execution_count": 20,
   "id": "7de0c440",
   "metadata": {},
   "outputs": [
    {
     "name": "stdout",
     "output_type": "stream",
     "text": [
      "<class 'list'>\n",
      "<class 'list'>\n"
     ]
    }
   ],
   "source": [
    "liste1 = []         # ilk iki satır boş listeler oluışturur\n",
    "liste2 = list()\n",
    "print(type(liste1))  # oluşturulan listelerin tiplerini ekrana yazdırır.\n",
    "print(type(liste2))"
   ]
  },
  {
   "cell_type": "code",
   "execution_count": 21,
   "id": "d26a2174",
   "metadata": {},
   "outputs": [
    {
     "data": {
      "text/plain": [
       "[15, 'Merhaba', 3.14, True, (3+5j)]"
      ]
     },
     "execution_count": 21,
     "metadata": {},
     "output_type": "execute_result"
    }
   ],
   "source": [
    "liste_yeni = [15, \"Merhaba\", 3.14, True, 3+5j]  #liste yeni adında bir liste oluşturulur listenin                                               \n",
    "                                                # içinde farklı veri tipinde öğeler var\n",
    "liste_yeni"
   ]
  },
  {
   "cell_type": "code",
   "execution_count": 22,
   "id": "2b249c9d",
   "metadata": {},
   "outputs": [
    {
     "data": {
      "text/plain": [
       "[15, 'Merhaba', 3.14, True, (3+5j), 'son']"
      ]
     },
     "execution_count": 22,
     "metadata": {},
     "output_type": "execute_result"
    }
   ],
   "source": [
    "liste_yeni.append(\"son\")  # listeye yeni bir öğe eklemek için kullanılır .\n",
    "liste_yeni"
   ]
  },
  {
   "cell_type": "code",
   "execution_count": 23,
   "id": "9d013e96",
   "metadata": {},
   "outputs": [
    {
     "data": {
      "text/plain": [
       "15"
      ]
     },
     "execution_count": 23,
     "metadata": {},
     "output_type": "execute_result"
    }
   ],
   "source": [
    "liste_yeni[0]  # listenin 0. elemanını getirdi ."
   ]
  },
  {
   "cell_type": "code",
   "execution_count": 24,
   "id": "25975b93",
   "metadata": {},
   "outputs": [
    {
     "name": "stdout",
     "output_type": "stream",
     "text": [
      "15\n",
      "Merhaba\n",
      "3.14\n",
      "True\n",
      "(3+5j)\n",
      "son\n"
     ]
    }
   ],
   "source": [
    "for elm in liste_yeni:   # for döngüsü içinde listeyi getirdik (dolaştık) .\n",
    "    print(elm)"
   ]
  },
  {
   "cell_type": "code",
   "execution_count": 25,
   "id": "99425bbc",
   "metadata": {},
   "outputs": [
    {
     "name": "stdout",
     "output_type": "stream",
     "text": [
      "0. eleman 15\n",
      "1. eleman Merhaba\n",
      "2. eleman 3.14\n",
      "3. eleman True\n",
      "4. eleman (3+5j)\n",
      "5. eleman son\n"
     ]
    }
   ],
   "source": [
    "for i in range(len(liste_yeni)):     # range(len(liste_yeni) range fonksiyonu bu listenin uzunluğu kadar bir sayı dizisi oluşturur\n",
    "    print(f\"{i}. eleman {liste_yeni[i]}\")"
   ]
  },
  {
   "cell_type": "code",
   "execution_count": 26,
   "id": "aee8bf63",
   "metadata": {},
   "outputs": [
    {
     "name": "stdout",
     "output_type": "stream",
     "text": [
      "<class 'tuple'>\n",
      "<class 'tuple'>\n"
     ]
    }
   ],
   "source": [
    "tuple1 = ()          # tuple(demet) pythonda bir veri koleksiyonu içeriği değiştirilemez immutable\n",
    "tuple2 = tuple()\n",
    "print(type(tuple1))\n",
    "print(type(tuple2))"
   ]
  },
  {
   "cell_type": "code",
   "execution_count": 2,
   "id": "96c93a38",
   "metadata": {},
   "outputs": [
    {
     "data": {
      "text/plain": [
       "(1, 2, 3, 4, 5)"
      ]
     },
     "execution_count": 2,
     "metadata": {},
     "output_type": "execute_result"
    }
   ],
   "source": [
    "tuple_new = (1, 2, 3, 4, 5)\n",
    "tuple_new"
   ]
  },
  {
   "cell_type": "code",
   "execution_count": 11,
   "id": "3913e860",
   "metadata": {},
   "outputs": [
    {
     "data": {
      "text/plain": [
       "(50, 67, 43, 23, 64)"
      ]
     },
     "execution_count": 11,
     "metadata": {},
     "output_type": "execute_result"
    }
   ],
   "source": [
    "tuple_puma = (50,67,43,23,64)\n",
    "tuple_puma\n"
   ]
  },
  {
   "cell_type": "code",
   "execution_count": 28,
   "id": "21f1f994",
   "metadata": {},
   "outputs": [
    {
     "name": "stdout",
     "output_type": "stream",
     "text": [
      "<class 'dict'>\n",
      "<class 'dict'>\n"
     ]
    }
   ],
   "source": [
    "dict1 = {}        # Pythonda sözlük olan bir veri yapısı anahtar değer şeklinde veri depolar  \"isim\" : \"Ahmet\" gibi \n",
    "dict2 =dict()\n",
    "print(type(dict1))\n",
    "print(type(dict2))"
   ]
  },
  {
   "cell_type": "code",
   "execution_count": 32,
   "id": "edad2804",
   "metadata": {},
   "outputs": [
    {
     "data": {
      "text/plain": [
       "{'Kalem': 2, 'Defter': 3, 'Silgi': 4}"
      ]
     },
     "execution_count": 32,
     "metadata": {},
     "output_type": "execute_result"
    }
   ],
   "source": [
    "dict_new = {\n",
    "    \"Kalem\" : 2,\n",
    "    \"Defter\" : 3,\n",
    "    \"Silgi\" : 4   \n",
    "}\n",
    "dict_new"
   ]
  },
  {
   "cell_type": "code",
   "execution_count": 33,
   "id": "1da81363",
   "metadata": {},
   "outputs": [
    {
     "data": {
      "text/plain": [
       "2"
      ]
     },
     "execution_count": 33,
     "metadata": {},
     "output_type": "execute_result"
    }
   ],
   "source": [
    "dict_new[\"Kalem\"]"
   ]
  },
  {
   "cell_type": "code",
   "execution_count": 37,
   "id": "e4487b01",
   "metadata": {},
   "outputs": [
    {
     "data": {
      "text/plain": [
       "{1: 3, 2: 3, 10: 2, 18: 1, 4: 2, 75: 1, 3: 1, 5: 1}"
      ]
     },
     "execution_count": 37,
     "metadata": {},
     "output_type": "execute_result"
    }
   ],
   "source": [
    "liste = [1, 2, 10, 18, 1, 2, 4, 10, 75, 3, 4, 1, 5, 2]\n",
    "sonuc = {}                                                 # Her bir elemanın kaç kez tekrarlandığını ekrana yazdırıyor .\n",
    "\n",
    "for elm in liste:\n",
    "    if  elm not in sonuc.keys():\n",
    "        sonuc[elm] = 1\n",
    "    else:\n",
    "        sonuc[elm] += 1\n",
    "sonuc        "
   ]
  }
 ],
 "metadata": {
  "kernelspec": {
   "display_name": "Python 3 (ipykernel)",
   "language": "python",
   "name": "python3"
  },
  "language_info": {
   "codemirror_mode": {
    "name": "ipython",
    "version": 3
   },
   "file_extension": ".py",
   "mimetype": "text/x-python",
   "name": "python",
   "nbconvert_exporter": "python",
   "pygments_lexer": "ipython3",
   "version": "3.11.5"
  }
 },
 "nbformat": 4,
 "nbformat_minor": 5
}
