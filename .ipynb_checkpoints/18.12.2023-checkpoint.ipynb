{
 "cells": [
  {
   "cell_type": "code",
   "execution_count": 1,
   "id": "22c2ca01",
   "metadata": {},
   "outputs": [],
   "source": [
    "import numpy as np\n",
    "\n",
    "x = np.random.normal(loc=0.5, scale=1, size=20)\n",
    "y = np.random.normal(loc=1.5, scale=1, size=20)"
   ]
  },
  {
   "cell_type": "code",
   "execution_count": 2,
   "id": "3915402d",
   "metadata": {},
   "outputs": [
    {
     "data": {
      "text/plain": [
       "ShapiroResult(statistic=0.9557169079780579, pvalue=0.462209016084671)"
      ]
     },
     "execution_count": 2,
     "metadata": {},
     "output_type": "execute_result"
    }
   ],
   "source": [
    "import scipy.stats as sts\n",
    "sts.shapiro(x)\n",
    "sts.shapiro(y)"
   ]
  },
  {
   "cell_type": "code",
   "execution_count": 3,
   "id": "b5c2cd36",
   "metadata": {},
   "outputs": [
    {
     "data": {
      "text/plain": [
       "(0.14888773444804376, 0.28772020904742596)"
      ]
     },
     "execution_count": 3,
     "metadata": {},
     "output_type": "execute_result"
    }
   ],
   "source": [
    "from statsmodels.stats.diagnostic import lilliefors\n",
    "lilliefors(x, pvalmethod=\"approx\")\n",
    "lilliefors(y, pvalmethod=\"approx\")"
   ]
  },
  {
   "cell_type": "code",
   "execution_count": 16,
   "id": "510f0698",
   "metadata": {},
   "outputs": [
    {
     "ename": "ModuleNotFoundError",
     "evalue": "No module named 'sfrancia'",
     "output_type": "error",
     "traceback": [
      "\u001b[1;31m---------------------------------------------------------------------------\u001b[0m",
      "\u001b[1;31mModuleNotFoundError\u001b[0m                       Traceback (most recent call last)",
      "Cell \u001b[1;32mIn[16], line 1\u001b[0m\n\u001b[1;32m----> 1\u001b[0m \u001b[38;5;28;01mimport\u001b[39;00m \u001b[38;5;21;01msfrancia\u001b[39;00m \u001b[38;5;28;01mas\u001b[39;00m \u001b[38;5;21;01msf\u001b[39;00m\n\u001b[0;32m      2\u001b[0m sf\u001b[38;5;241m.\u001b[39mshapiroFrancia(x)\n\u001b[0;32m      3\u001b[0m sf\u001b[38;5;241m.\u001b[39mshapiroFrancia(y)\n",
      "\u001b[1;31mModuleNotFoundError\u001b[0m: No module named 'sfrancia'"
     ]
    }
   ],
   "source": [
    "import sfrancia as sf\n",
    "sf.shapiroFrancia(x)\n",
    "sf.shapiroFrancia(y)"
   ]
  },
  {
   "cell_type": "code",
   "execution_count": 6,
   "id": "703588ac",
   "metadata": {},
   "outputs": [
    {
     "data": {
      "text/plain": [
       "TtestResult(statistic=-3.21236511422204, pvalue=0.0026815721618072687, df=38.0)"
      ]
     },
     "execution_count": 6,
     "metadata": {},
     "output_type": "execute_result"
    }
   ],
   "source": [
    "sts.ttest_ind(x, y, equal_var=True)"
   ]
  },
  {
   "cell_type": "code",
   "execution_count": 7,
   "id": "d4512140",
   "metadata": {},
   "outputs": [],
   "source": [
    "#  conda install -c conda-forge pingouin"
   ]
  },
  {
   "cell_type": "code",
   "execution_count": 17,
   "id": "c86d811b",
   "metadata": {},
   "outputs": [
    {
     "data": {
      "text/html": [
       "<div>\n",
       "<style scoped>\n",
       "    .dataframe tbody tr th:only-of-type {\n",
       "        vertical-align: middle;\n",
       "    }\n",
       "\n",
       "    .dataframe tbody tr th {\n",
       "        vertical-align: top;\n",
       "    }\n",
       "\n",
       "    .dataframe thead th {\n",
       "        text-align: right;\n",
       "    }\n",
       "</style>\n",
       "<table border=\"1\" class=\"dataframe\">\n",
       "  <thead>\n",
       "    <tr style=\"text-align: right;\">\n",
       "      <th></th>\n",
       "      <th>T</th>\n",
       "      <th>dof</th>\n",
       "      <th>alternative</th>\n",
       "      <th>p-val</th>\n",
       "      <th>CI95%</th>\n",
       "      <th>cohen-d</th>\n",
       "      <th>BF10</th>\n",
       "      <th>power</th>\n",
       "    </tr>\n",
       "  </thead>\n",
       "  <tbody>\n",
       "    <tr>\n",
       "      <th>T-test</th>\n",
       "      <td>-3.212365</td>\n",
       "      <td>34.96831</td>\n",
       "      <td>two-sided</td>\n",
       "      <td>0.002825</td>\n",
       "      <td>[-1.99, -0.45]</td>\n",
       "      <td>1.015839</td>\n",
       "      <td>13.977</td>\n",
       "      <td>0.879045</td>\n",
       "    </tr>\n",
       "  </tbody>\n",
       "</table>\n",
       "</div>"
      ],
      "text/plain": [
       "               T       dof alternative     p-val           CI95%   cohen-d  \\\n",
       "T-test -3.212365  34.96831   two-sided  0.002825  [-1.99, -0.45]  1.015839   \n",
       "\n",
       "          BF10     power  \n",
       "T-test  13.977  0.879045  "
      ]
     },
     "execution_count": 17,
     "metadata": {},
     "output_type": "execute_result"
    }
   ],
   "source": [
    "import pingouin as pg\n",
    "\n",
    "pg.ttest(x, y, correction=True)"
   ]
  },
  {
   "cell_type": "code",
   "execution_count": 12,
   "id": "26523da2",
   "metadata": {},
   "outputs": [
    {
     "data": {
      "text/html": [
       "<div>\n",
       "<style scoped>\n",
       "    .dataframe tbody tr th:only-of-type {\n",
       "        vertical-align: middle;\n",
       "    }\n",
       "\n",
       "    .dataframe tbody tr th {\n",
       "        vertical-align: top;\n",
       "    }\n",
       "\n",
       "    .dataframe thead th {\n",
       "        text-align: right;\n",
       "    }\n",
       "</style>\n",
       "<table border=\"1\" class=\"dataframe\">\n",
       "  <thead>\n",
       "    <tr style=\"text-align: right;\">\n",
       "      <th></th>\n",
       "      <th>ID</th>\n",
       "      <th>sex</th>\n",
       "      <th>age</th>\n",
       "      <th>surgery</th>\n",
       "      <th>heart rate</th>\n",
       "      <th>temperature</th>\n",
       "      <th>bilirubin</th>\n",
       "      <th>SAPS II</th>\n",
       "      <th>liver failure</th>\n",
       "      <th>LOS</th>\n",
       "      <th>outcome</th>\n",
       "    </tr>\n",
       "  </thead>\n",
       "  <tbody>\n",
       "    <tr>\n",
       "      <th>0</th>\n",
       "      <td>1</td>\n",
       "      <td>female</td>\n",
       "      <td>76</td>\n",
       "      <td>other</td>\n",
       "      <td>98.0</td>\n",
       "      <td>36.5</td>\n",
       "      <td>6.512142</td>\n",
       "      <td>57</td>\n",
       "      <td>0</td>\n",
       "      <td>1</td>\n",
       "      <td>died</td>\n",
       "    </tr>\n",
       "    <tr>\n",
       "      <th>1</th>\n",
       "      <td>2</td>\n",
       "      <td>female</td>\n",
       "      <td>60</td>\n",
       "      <td>gastrointestinal</td>\n",
       "      <td>80.0</td>\n",
       "      <td>38.1</td>\n",
       "      <td>14.523197</td>\n",
       "      <td>52</td>\n",
       "      <td>0</td>\n",
       "      <td>2</td>\n",
       "      <td>home</td>\n",
       "    </tr>\n",
       "    <tr>\n",
       "      <th>2</th>\n",
       "      <td>3</td>\n",
       "      <td>male</td>\n",
       "      <td>66</td>\n",
       "      <td>cardiothoracic</td>\n",
       "      <td>99.6</td>\n",
       "      <td>37.4</td>\n",
       "      <td>22.972480</td>\n",
       "      <td>57</td>\n",
       "      <td>0</td>\n",
       "      <td>1</td>\n",
       "      <td>secondary care/rehab</td>\n",
       "    </tr>\n",
       "    <tr>\n",
       "      <th>3</th>\n",
       "      <td>4</td>\n",
       "      <td>male</td>\n",
       "      <td>74</td>\n",
       "      <td>other</td>\n",
       "      <td>110.0</td>\n",
       "      <td>39.1</td>\n",
       "      <td>19.299346</td>\n",
       "      <td>45</td>\n",
       "      <td>0</td>\n",
       "      <td>2</td>\n",
       "      <td>home</td>\n",
       "    </tr>\n",
       "    <tr>\n",
       "      <th>4</th>\n",
       "      <td>5</td>\n",
       "      <td>female</td>\n",
       "      <td>68</td>\n",
       "      <td>other</td>\n",
       "      <td>94.1</td>\n",
       "      <td>38.5</td>\n",
       "      <td>39.076485</td>\n",
       "      <td>49</td>\n",
       "      <td>0</td>\n",
       "      <td>1</td>\n",
       "      <td>home</td>\n",
       "    </tr>\n",
       "    <tr>\n",
       "      <th>...</th>\n",
       "      <td>...</td>\n",
       "      <td>...</td>\n",
       "      <td>...</td>\n",
       "      <td>...</td>\n",
       "      <td>...</td>\n",
       "      <td>...</td>\n",
       "      <td>...</td>\n",
       "      <td>...</td>\n",
       "      <td>...</td>\n",
       "      <td>...</td>\n",
       "      <td>...</td>\n",
       "    </tr>\n",
       "    <tr>\n",
       "      <th>495</th>\n",
       "      <td>496</td>\n",
       "      <td>male</td>\n",
       "      <td>62</td>\n",
       "      <td>cardiothoracic</td>\n",
       "      <td>118.0</td>\n",
       "      <td>37.3</td>\n",
       "      <td>13.234537</td>\n",
       "      <td>33</td>\n",
       "      <td>0</td>\n",
       "      <td>1</td>\n",
       "      <td>secondary care/rehab</td>\n",
       "    </tr>\n",
       "    <tr>\n",
       "      <th>496</th>\n",
       "      <td>497</td>\n",
       "      <td>male</td>\n",
       "      <td>67</td>\n",
       "      <td>cardiothoracic</td>\n",
       "      <td>115.0</td>\n",
       "      <td>38.0</td>\n",
       "      <td>10.740772</td>\n",
       "      <td>56</td>\n",
       "      <td>0</td>\n",
       "      <td>1</td>\n",
       "      <td>died</td>\n",
       "    </tr>\n",
       "    <tr>\n",
       "      <th>497</th>\n",
       "      <td>498</td>\n",
       "      <td>female</td>\n",
       "      <td>53</td>\n",
       "      <td>cardiothoracic</td>\n",
       "      <td>131.0</td>\n",
       "      <td>37.9</td>\n",
       "      <td>14.131188</td>\n",
       "      <td>38</td>\n",
       "      <td>0</td>\n",
       "      <td>3</td>\n",
       "      <td>secondary care/rehab</td>\n",
       "    </tr>\n",
       "    <tr>\n",
       "      <th>498</th>\n",
       "      <td>499</td>\n",
       "      <td>male</td>\n",
       "      <td>68</td>\n",
       "      <td>other</td>\n",
       "      <td>86.9</td>\n",
       "      <td>36.0</td>\n",
       "      <td>9.596478</td>\n",
       "      <td>66</td>\n",
       "      <td>0</td>\n",
       "      <td>2</td>\n",
       "      <td>home</td>\n",
       "    </tr>\n",
       "    <tr>\n",
       "      <th>499</th>\n",
       "      <td>500</td>\n",
       "      <td>male</td>\n",
       "      <td>75</td>\n",
       "      <td>cardiothoracic</td>\n",
       "      <td>92.0</td>\n",
       "      <td>37.6</td>\n",
       "      <td>11.660875</td>\n",
       "      <td>25</td>\n",
       "      <td>0</td>\n",
       "      <td>1</td>\n",
       "      <td>secondary care/rehab</td>\n",
       "    </tr>\n",
       "  </tbody>\n",
       "</table>\n",
       "<p>500 rows × 11 columns</p>\n",
       "</div>"
      ],
      "text/plain": [
       "      ID     sex  age           surgery  heart rate  temperature  bilirubin  \\\n",
       "0      1  female   76             other        98.0         36.5   6.512142   \n",
       "1      2  female   60  gastrointestinal        80.0         38.1  14.523197   \n",
       "2      3    male   66    cardiothoracic        99.6         37.4  22.972480   \n",
       "3      4    male   74             other       110.0         39.1  19.299346   \n",
       "4      5  female   68             other        94.1         38.5  39.076485   \n",
       "..   ...     ...  ...               ...         ...          ...        ...   \n",
       "495  496    male   62    cardiothoracic       118.0         37.3  13.234537   \n",
       "496  497    male   67    cardiothoracic       115.0         38.0  10.740772   \n",
       "497  498  female   53    cardiothoracic       131.0         37.9  14.131188   \n",
       "498  499    male   68             other        86.9         36.0   9.596478   \n",
       "499  500    male   75    cardiothoracic        92.0         37.6  11.660875   \n",
       "\n",
       "     SAPS II  liver failure  LOS               outcome  \n",
       "0         57              0    1                  died  \n",
       "1         52              0    2                  home  \n",
       "2         57              0    1  secondary care/rehab  \n",
       "3         45              0    2                  home  \n",
       "4         49              0    1                  home  \n",
       "..       ...            ...  ...                   ...  \n",
       "495       33              0    1  secondary care/rehab  \n",
       "496       56              0    1                  died  \n",
       "497       38              0    3  secondary care/rehab  \n",
       "498       66              0    2                  home  \n",
       "499       25              0    1  secondary care/rehab  \n",
       "\n",
       "[500 rows x 11 columns]"
      ]
     },
     "execution_count": 12,
     "metadata": {},
     "output_type": "execute_result"
    }
   ],
   "source": [
    "import pandas as pd\n",
    "icu = pd.read_csv(\"ICUData.csv\")\n",
    "icu"
   ]
  },
  {
   "cell_type": "code",
   "execution_count": 13,
   "id": "6e96ac2d",
   "metadata": {},
   "outputs": [
    {
     "data": {
      "text/plain": [
       "TtestResult(statistic=4.197348728151364, pvalue=1.59934647255863e-05, df=498)"
      ]
     },
     "execution_count": 13,
     "metadata": {},
     "output_type": "execute_result"
    }
   ],
   "source": [
    "from scipy import stats\n",
    "data = icu.temperature.drop(397)\n",
    "stats.ttest_1samp(data, popmean=37.5, alternative=\"greater\")"
   ]
  },
  {
   "cell_type": "code",
   "execution_count": 15,
   "id": "347e23ea",
   "metadata": {},
   "outputs": [
    {
     "data": {
      "text/html": [
       "<div>\n",
       "<style scoped>\n",
       "    .dataframe tbody tr th:only-of-type {\n",
       "        vertical-align: middle;\n",
       "    }\n",
       "\n",
       "    .dataframe tbody tr th {\n",
       "        vertical-align: top;\n",
       "    }\n",
       "\n",
       "    .dataframe thead th {\n",
       "        text-align: right;\n",
       "    }\n",
       "</style>\n",
       "<table border=\"1\" class=\"dataframe\">\n",
       "  <thead>\n",
       "    <tr style=\"text-align: right;\">\n",
       "      <th></th>\n",
       "      <th>T</th>\n",
       "      <th>dof</th>\n",
       "      <th>alternative</th>\n",
       "      <th>p-val</th>\n",
       "      <th>CI95%</th>\n",
       "      <th>cohen-d</th>\n",
       "      <th>BF10</th>\n",
       "      <th>power</th>\n",
       "    </tr>\n",
       "  </thead>\n",
       "  <tbody>\n",
       "    <tr>\n",
       "      <th>T-test</th>\n",
       "      <td>4.197349</td>\n",
       "      <td>498</td>\n",
       "      <td>greater</td>\n",
       "      <td>0.000016</td>\n",
       "      <td>[37.63, inf]</td>\n",
       "      <td>0.187899</td>\n",
       "      <td>550.419</td>\n",
       "      <td>0.994564</td>\n",
       "    </tr>\n",
       "  </tbody>\n",
       "</table>\n",
       "</div>"
      ],
      "text/plain": [
       "               T  dof alternative     p-val         CI95%   cohen-d     BF10  \\\n",
       "T-test  4.197349  498     greater  0.000016  [37.63, inf]  0.187899  550.419   \n",
       "\n",
       "           power  \n",
       "T-test  0.994564  "
      ]
     },
     "execution_count": 15,
     "metadata": {},
     "output_type": "execute_result"
    }
   ],
   "source": [
    "import pingouin as pg\n",
    "pg.ttest(data, 37.5, alternative=\"greater\")"
   ]
  },
  {
   "cell_type": "code",
   "execution_count": 18,
   "id": "ef92db74",
   "metadata": {},
   "outputs": [
    {
     "data": {
      "text/plain": [
       "TtestResult(statistic=2.1027472872691644, pvalue=0.01799407119910482, df=499)"
      ]
     },
     "execution_count": 18,
     "metadata": {},
     "output_type": "execute_result"
    }
   ],
   "source": [
    "stats.ttest_1samp(icu.temperature, popmean=37.5, alternative=\"greater\")"
   ]
  },
  {
   "cell_type": "code",
   "execution_count": 19,
   "id": "7847cbbf",
   "metadata": {},
   "outputs": [
    {
     "data": {
      "text/plain": [
       "ShapiroResult(statistic=0.9879996180534363, pvalue=0.008832931518554688)"
      ]
     },
     "execution_count": 19,
     "metadata": {},
     "output_type": "execute_result"
    }
   ],
   "source": [
    "sts.shapiro(icu[icu.sex == \"female\"].temperature)\n",
    "sts.shapiro(icu.drop(397)[icu.drop(397).sex == \"male\"].temperature)"
   ]
  },
  {
   "cell_type": "code",
   "execution_count": 20,
   "id": "ca2bf5e7",
   "metadata": {},
   "outputs": [
    {
     "data": {
      "text/plain": [
       "1.5743588571428573"
      ]
     },
     "execution_count": 20,
     "metadata": {},
     "output_type": "execute_result"
    }
   ],
   "source": [
    "np.var(icu[icu.sex == \"female\"].temperature)"
   ]
  },
  {
   "cell_type": "code",
   "execution_count": 21,
   "id": "7c3c2577",
   "metadata": {},
   "outputs": [
    {
     "data": {
      "text/plain": [
       "3.7756199763313587"
      ]
     },
     "execution_count": 21,
     "metadata": {},
     "output_type": "execute_result"
    }
   ],
   "source": [
    "np.var(icu[icu.sex == \"male\"].temperature)"
   ]
  },
  {
   "cell_type": "code",
   "execution_count": 22,
   "id": "28fc067e",
   "metadata": {},
   "outputs": [
    {
     "data": {
      "text/plain": [
       "1.2580727023319607"
      ]
     },
     "execution_count": 22,
     "metadata": {},
     "output_type": "execute_result"
    }
   ],
   "source": [
    "np.var(icu.drop(397)[icu.drop(397).sex == \"male\"].temperature)"
   ]
  },
  {
   "cell_type": "code",
   "execution_count": 23,
   "id": "3f847381",
   "metadata": {},
   "outputs": [
    {
     "data": {
      "text/plain": [
       "TtestResult(statistic=-0.3763844542391408, pvalue=0.7067968223676342, df=481.7086606343309)"
      ]
     },
     "execution_count": 23,
     "metadata": {},
     "output_type": "execute_result"
    }
   ],
   "source": [
    "sts.ttest_ind(icu[icu.sex == \"female\"].temperature, \n",
    "                icu[icu.sex == \"male\"].temperature, equal_var=False)"
   ]
  },
  {
   "cell_type": "code",
   "execution_count": 24,
   "id": "9c46902d",
   "metadata": {},
   "outputs": [
    {
     "data": {
      "text/plain": [
       "TtestResult(statistic=-1.2514171914600383, pvalue=0.21168583024595652, df=323.7324571156322)"
      ]
     },
     "execution_count": 24,
     "metadata": {},
     "output_type": "execute_result"
    }
   ],
   "source": [
    "sts.ttest_ind(icu.drop(397)[icu.drop(397).sex == \"female\"].temperature, \n",
    "                icu.drop(397)[icu.drop(397).sex == \"male\"].temperature, equal_var=False)"
   ]
  },
  {
   "cell_type": "code",
   "execution_count": 25,
   "id": "9c8eaed9",
   "metadata": {},
   "outputs": [
    {
     "data": {
      "text/plain": [
       "WilcoxonResult(statistic=69173.0, pvalue=0.00016697168360892)"
      ]
     },
     "execution_count": 25,
     "metadata": {},
     "output_type": "execute_result"
    }
   ],
   "source": [
    "sts.wilcoxon(icu.drop(397).temperature - 37.5, alternative=\"greater\")"
   ]
  },
  {
   "cell_type": "code",
   "execution_count": 26,
   "id": "f2570b6e",
   "metadata": {},
   "outputs": [
    {
     "data": {
      "text/plain": [
       "MannwhitneyuResult(statistic=26387.5, pvalue=0.18333100511010658)"
      ]
     },
     "execution_count": 26,
     "metadata": {},
     "output_type": "execute_result"
    }
   ],
   "source": [
    "stats.mannwhitneyu(icu[icu.sex == \"female\"].temperature, \n",
    "                   icu[icu.sex == \"male\"].temperature)"
   ]
  },
  {
   "cell_type": "code",
   "execution_count": 27,
   "id": "33384455",
   "metadata": {},
   "outputs": [
    {
     "data": {
      "text/plain": [
       "MannwhitneyuResult(statistic=26212.5, pvalue=0.16425374376579738)"
      ]
     },
     "execution_count": 27,
     "metadata": {},
     "output_type": "execute_result"
    }
   ],
   "source": [
    "stats.mannwhitneyu(icu.drop(397)[icu.drop(397).sex == \"female\"].temperature, \n",
    "                icu.drop(397)[icu.drop(397).sex == \"male\"].temperature)"
   ]
  },
  {
   "cell_type": "code",
   "execution_count": 28,
   "id": "0fcb8954",
   "metadata": {},
   "outputs": [
    {
     "name": "stdout",
     "output_type": "stream",
     "text": [
      "Degree of freedom 1: 174\n",
      "Degree of freedom 2: 324\n",
      "F-statistic: 0.41808627065941467\n",
      "p-value: 3.033044478412221e-10\n"
     ]
    }
   ],
   "source": [
    "group1 = icu[icu.sex == \"female\"].temperature\n",
    "group2 = icu[icu.sex == \"male\"].temperature\n",
    "\n",
    "#varyanslar hesaplanıyor\n",
    "variance1 = np.var(group1, ddof=1)\n",
    "variance2 = np.var(group2, ddof=1)\n",
    "\n",
    "# f istatistiği hesaplanıyor\n",
    "f_value = variance1 / variance2\n",
    "\n",
    "# Serbestlik dereceleri hesaplanıyor\n",
    "df1 = len(group1) - 1\n",
    "df2 = len(group2) - 1\n",
    "\n",
    "# p değeri hesaplanıyor\n",
    "p_value = stats.f.cdf(f_value, df1, df2)\n",
    "\n",
    "# sonuçlar yazdırılıyor\n",
    "# Print the results\n",
    "print('Degree of freedom 1:',df1)\n",
    "print('Degree of freedom 2:',df2)\n",
    "print(\"F-statistic:\", f_value)\n",
    "print(\"p-value:\", p_value)"
   ]
  },
  {
   "cell_type": "code",
   "execution_count": 29,
   "id": "0a5443bd",
   "metadata": {},
   "outputs": [
    {
     "name": "stdout",
     "output_type": "stream",
     "text": [
      "Degree of freedom 1: 174\n",
      "Degree of freedom 2: 324\n",
      "F-statistic: 0.41808627065941467\n",
      "p-value: 3.033044478412221e-10\n"
     ]
    }
   ],
   "source": [
    "group1 = icu[icu.sex == \"female\"].temperature\n",
    "group2 = icu[icu.sex == \"male\"].temperature\n",
    "\n",
    "#varyanslar hesaplanıyor\n",
    "variance1 = np.var(group1, ddof=1)\n",
    "variance2 = np.var(group2, ddof=1)\n",
    "\n",
    "# f istatistiği hesaplanıyor\n",
    "f_value = variance1 / variance2\n",
    "\n",
    "# Serbestlik dereceleri hesaplanıyor\n",
    "df1 = len(group1) - 1\n",
    "df2 = len(group2) - 1\n",
    "\n",
    "# p değeri hesaplanıyor\n",
    "p_value = stats.f.cdf(f_value, df1, df2)\n",
    "\n",
    "# sonuçlar yazdırılıyor\n",
    "# Print the results\n",
    "print('Degree of freedom 1:',df1)\n",
    "print('Degree of freedom 2:',df2)\n",
    "print(\"F-statistic:\", f_value)\n",
    "print(\"p-value:\", p_value)"
   ]
  },
  {
   "cell_type": "code",
   "execution_count": 30,
   "id": "641cf05d",
   "metadata": {},
   "outputs": [
    {
     "data": {
      "text/plain": [
       "AnsariResult(statistic=20903.5, pvalue=0.16875529793204147)"
      ]
     },
     "execution_count": 30,
     "metadata": {},
     "output_type": "execute_result"
    }
   ],
   "source": [
    "stats.ansari(icu[icu.sex == \"female\"].temperature, icu[icu.sex == \"male\"].temperature)"
   ]
  },
  {
   "cell_type": "code",
   "execution_count": 31,
   "id": "cd81bb77",
   "metadata": {},
   "outputs": [
    {
     "data": {
      "text/plain": [
       "AnsariResult(statistic=20807.5, pvalue=0.1477243639127207)"
      ]
     },
     "execution_count": 31,
     "metadata": {},
     "output_type": "execute_result"
    }
   ],
   "source": [
    "stats.ansari(icu.drop(397)[icu.drop(397).sex == \"female\"].temperature, \n",
    "                icu.drop(397)[icu.drop(397).sex == \"male\"].temperature)"
   ]
  },
  {
   "cell_type": "code",
   "execution_count": 32,
   "id": "103ab5b7",
   "metadata": {},
   "outputs": [
    {
     "data": {
      "text/plain": [
       "BinomTestResult(k=6, n=24, alternative='greater', statistic=0.25, pvalue=0.1995295129479585)"
      ]
     },
     "execution_count": 32,
     "metadata": {},
     "output_type": "execute_result"
    }
   ],
   "source": [
    "sts.binomtest(k=6, n=24, p=1/6, alternative='greater')\n",
    "# Bu p değeri (0,1995) 0,05'ten küçük olmadığı için sıfır hipotezini reddetmede başarısız oluyoruz. \n",
    "# Zarın \"3\" sayısına eğilimli olduğunu söyleyecek yeterli kanıtımız yok."
   ]
  },
  {
   "cell_type": "code",
   "execution_count": 33,
   "id": "5937e331",
   "metadata": {},
   "outputs": [
    {
     "data": {
      "text/plain": [
       "BinomTestResult(k=19, n=30, alternative='greater', statistic=0.6333333333333333, pvalue=0.10024421103298667)"
      ]
     },
     "execution_count": 33,
     "metadata": {},
     "output_type": "execute_result"
    }
   ],
   "source": [
    "sts.binomtest(k=19, n=30, p=1/2, alternative='greater')\n",
    "# Bu p değeri (0,10024) 0,05'ten küçük olmadığı için sıfır hipotezini reddedemiyoruz. \n",
    "# Madalyonun tura eğilimli olduğunu söyleyecek yeterli kanıtımız yok."
   ]
  },
  {
   "cell_type": "code",
   "execution_count": 34,
   "id": "cd2864c7",
   "metadata": {},
   "outputs": [
    {
     "data": {
      "text/plain": [
       "BinomTestResult(k=25, n=500, alternative='less', statistic=0.05, pvalue=0.5529388564087532)"
      ]
     },
     "execution_count": 34,
     "metadata": {},
     "output_type": "execute_result"
    }
   ],
   "source": [
    "sts.binomtest(25, 500, p=0.05, alternative=\"less\")"
   ]
  },
  {
   "cell_type": "code",
   "execution_count": 35,
   "id": "8eed014e",
   "metadata": {},
   "outputs": [
    {
     "data": {
      "text/html": [
       "<div>\n",
       "<style scoped>\n",
       "    .dataframe tbody tr th:only-of-type {\n",
       "        vertical-align: middle;\n",
       "    }\n",
       "\n",
       "    .dataframe tbody tr th {\n",
       "        vertical-align: top;\n",
       "    }\n",
       "\n",
       "    .dataframe thead th {\n",
       "        text-align: right;\n",
       "    }\n",
       "</style>\n",
       "<table border=\"1\" class=\"dataframe\">\n",
       "  <thead>\n",
       "    <tr style=\"text-align: right;\">\n",
       "      <th>sex</th>\n",
       "      <th>female</th>\n",
       "      <th>male</th>\n",
       "    </tr>\n",
       "    <tr>\n",
       "      <th>liver failure</th>\n",
       "      <th></th>\n",
       "      <th></th>\n",
       "    </tr>\n",
       "  </thead>\n",
       "  <tbody>\n",
       "    <tr>\n",
       "      <th>0</th>\n",
       "      <td>168</td>\n",
       "      <td>312</td>\n",
       "    </tr>\n",
       "    <tr>\n",
       "      <th>1</th>\n",
       "      <td>7</td>\n",
       "      <td>13</td>\n",
       "    </tr>\n",
       "  </tbody>\n",
       "</table>\n",
       "</div>"
      ],
      "text/plain": [
       "sex            female  male\n",
       "liver failure              \n",
       "0                 168   312\n",
       "1                   7    13"
      ]
     },
     "execution_count": 35,
     "metadata": {},
     "output_type": "execute_result"
    }
   ],
   "source": [
    "result = pd.crosstab(icu['liver failure'], icu['sex'])\n",
    "result"
   ]
  },
  {
   "cell_type": "code",
   "execution_count": 36,
   "id": "6d08eef6",
   "metadata": {},
   "outputs": [
    {
     "data": {
      "text/plain": [
       "SignificanceResult(statistic=1.0, pvalue=1.0)"
      ]
     },
     "execution_count": 36,
     "metadata": {},
     "output_type": "execute_result"
    }
   ],
   "source": [
    "stats.fisher_exact(result)"
   ]
  },
  {
   "cell_type": "code",
   "execution_count": 37,
   "id": "a6e5c895",
   "metadata": {},
   "outputs": [
    {
     "data": {
      "text/plain": [
       "PearsonRResult(statistic=0.29780332856061853, pvalue=1.118148500008259e-11)"
      ]
     },
     "execution_count": 37,
     "metadata": {},
     "output_type": "execute_result"
    }
   ],
   "source": [
    "stats.pearsonr(icu.drop(397).temperature, icu.drop(397)[\"heart rate\"])"
   ]
  },
  {
   "cell_type": "code",
   "execution_count": 38,
   "id": "1da9a75f",
   "metadata": {},
   "outputs": [
    {
     "data": {
      "text/plain": [
       "SignificanceResult(statistic=0.26599572175445046, pvalue=1.5207779303155718e-09)"
      ]
     },
     "execution_count": 38,
     "metadata": {},
     "output_type": "execute_result"
    }
   ],
   "source": [
    "stats.spearmanr(icu.temperature, icu[\"heart rate\"])"
   ]
  },
  {
   "cell_type": "code",
   "execution_count": 39,
   "id": "0caa7c41",
   "metadata": {},
   "outputs": [
    {
     "data": {
      "text/plain": [
       "SignificanceResult(statistic=0.18269029154469063, pvalue=1.9348573865883658e-09)"
      ]
     },
     "execution_count": 39,
     "metadata": {},
     "output_type": "execute_result"
    }
   ],
   "source": [
    "stats.kendalltau(icu.temperature, icu[\"heart rate\"])"
   ]
  },
  {
   "cell_type": "code",
   "execution_count": 40,
   "id": "097837c7",
   "metadata": {},
   "outputs": [
    {
     "data": {
      "text/plain": [
       "F_onewayResult(statistic=1.9571847180075135, pvalue=0.11950631981506887)"
      ]
     },
     "execution_count": 40,
     "metadata": {},
     "output_type": "execute_result"
    }
   ],
   "source": [
    "result_two = icu.groupby(\"outcome\")[\"temperature\"].apply(list)\n",
    "stats.f_oneway(*result_two)"
   ]
  },
  {
   "cell_type": "code",
   "execution_count": 41,
   "id": "b86dbcf0",
   "metadata": {},
   "outputs": [
    {
     "data": {
      "text/plain": [
       "F_onewayResult(statistic=5.2203056810786075, pvalue=0.001481073204953295)"
      ]
     },
     "execution_count": 41,
     "metadata": {},
     "output_type": "execute_result"
    }
   ],
   "source": [
    "result_two = icu.drop(397).groupby(\"outcome\")[\"temperature\"].apply(list)\n",
    "stats.f_oneway(*result_two)"
   ]
  },
  {
   "cell_type": "code",
   "execution_count": 42,
   "id": "388fde87",
   "metadata": {},
   "outputs": [
    {
     "data": {
      "text/plain": [
       "ShapiroResult(statistic=0.9918887615203857, pvalue=0.008012347854673862)"
      ]
     },
     "execution_count": 42,
     "metadata": {},
     "output_type": "execute_result"
    }
   ],
   "source": [
    "stats.shapiro(icu.drop(397).temperature)"
   ]
  },
  {
   "cell_type": "code",
   "execution_count": 43,
   "id": "731c7d98",
   "metadata": {},
   "outputs": [
    {
     "data": {
      "text/plain": [
       "(0.048498348779779654, 0.007001263561967399)"
      ]
     },
     "execution_count": 43,
     "metadata": {},
     "output_type": "execute_result"
    }
   ],
   "source": [
    "from statsmodels.stats.diagnostic import lilliefors\n",
    "\n",
    "lilliefors(icu.drop(397).temperature, pvalmethod=\"approx\")"
   ]
  },
  {
   "cell_type": "code",
   "execution_count": 44,
   "id": "18229f0c",
   "metadata": {},
   "outputs": [
    {
     "data": {
      "text/html": [
       "<p>class=TestResult name=Unnamed type=CramerVonMisesNormal binaryQualityMeasure=false p-value threshold=0.05 p-value=0.01426 statistic=0.167025 description=[]</p>"
      ],
      "text/plain": [
       "class=TestResult name=Unnamed type=CramerVonMisesNormal binaryQualityMeasure=false p-value threshold=0.05 p-value=0.01426 statistic=0.167025 description=[]"
      ]
     },
     "execution_count": 44,
     "metadata": {},
     "output_type": "execute_result"
    }
   ],
   "source": [
    "#  conda install -c conda-forge openturns\n",
    "import openturns as ot\n",
    "data = icu.drop(397).temperature\n",
    "data = ot.Sample(np.reshape(data, (-1, 1)))\n",
    "ot.NormalityTest.CramerVonMisesNormal(data)"
   ]
  },
  {
   "cell_type": "code",
   "execution_count": 45,
   "id": "7f3814af",
   "metadata": {},
   "outputs": [
    {
     "data": {
      "text/plain": [
       "{'method': 'Shapiro-Francia normality test',\n",
       " 'statistics W': 0.991310918637953,\n",
       " 'statistics z': 2.5034940978076157,\n",
       " 'p-value': 0.0061486865737002605}"
      ]
     },
     "execution_count": 45,
     "metadata": {},
     "output_type": "execute_result"
    }
   ],
   "source": [
    "# pip install sfrancia\n",
    "\n",
    "import sfrancia as sf\n",
    "\n",
    "sf.shapiroFrancia(icu.drop(397).temperature)"
   ]
  },
  {
   "cell_type": "code",
   "execution_count": null,
   "id": "8695cc08",
   "metadata": {},
   "outputs": [],
   "source": []
  },
  {
   "cell_type": "code",
   "execution_count": null,
   "id": "c43b9d7a",
   "metadata": {},
   "outputs": [],
   "source": []
  },
  {
   "cell_type": "code",
   "execution_count": null,
   "id": "5f7818cd",
   "metadata": {},
   "outputs": [],
   "source": []
  },
  {
   "cell_type": "code",
   "execution_count": null,
   "id": "094272b1",
   "metadata": {},
   "outputs": [],
   "source": []
  },
  {
   "cell_type": "code",
   "execution_count": null,
   "id": "7e893ca9",
   "metadata": {},
   "outputs": [],
   "source": []
  },
  {
   "cell_type": "code",
   "execution_count": null,
   "id": "ab1d6792",
   "metadata": {},
   "outputs": [],
   "source": []
  },
  {
   "cell_type": "code",
   "execution_count": null,
   "id": "7d1e82b9",
   "metadata": {},
   "outputs": [],
   "source": []
  },
  {
   "cell_type": "code",
   "execution_count": null,
   "id": "51deccb2",
   "metadata": {},
   "outputs": [],
   "source": []
  },
  {
   "cell_type": "code",
   "execution_count": null,
   "id": "2407efe8",
   "metadata": {},
   "outputs": [],
   "source": []
  },
  {
   "cell_type": "code",
   "execution_count": null,
   "id": "727a1412",
   "metadata": {},
   "outputs": [],
   "source": []
  },
  {
   "cell_type": "code",
   "execution_count": null,
   "id": "f0b935f6",
   "metadata": {},
   "outputs": [],
   "source": []
  },
  {
   "cell_type": "code",
   "execution_count": null,
   "id": "fba6cb3b",
   "metadata": {},
   "outputs": [],
   "source": []
  },
  {
   "cell_type": "code",
   "execution_count": null,
   "id": "e5813390",
   "metadata": {},
   "outputs": [],
   "source": []
  },
  {
   "cell_type": "code",
   "execution_count": null,
   "id": "0b4dff35",
   "metadata": {},
   "outputs": [],
   "source": []
  },
  {
   "cell_type": "code",
   "execution_count": null,
   "id": "c1fc6a7b",
   "metadata": {},
   "outputs": [],
   "source": []
  },
  {
   "cell_type": "code",
   "execution_count": null,
   "id": "612434b0",
   "metadata": {},
   "outputs": [],
   "source": []
  }
 ],
 "metadata": {
  "kernelspec": {
   "display_name": "Python 3 (ipykernel)",
   "language": "python",
   "name": "python3"
  },
  "language_info": {
   "codemirror_mode": {
    "name": "ipython",
    "version": 3
   },
   "file_extension": ".py",
   "mimetype": "text/x-python",
   "name": "python",
   "nbconvert_exporter": "python",
   "pygments_lexer": "ipython3",
   "version": "3.11.5"
  }
 },
 "nbformat": 4,
 "nbformat_minor": 5
}
